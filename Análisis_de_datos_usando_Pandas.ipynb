{
  "nbformat": 4,
  "nbformat_minor": 0,
  "metadata": {
    "colab": {
      "name": "Análisis de datos usando Pandas.ipynb",
      "provenance": [],
      "collapsed_sections": [],
      "include_colab_link": true
    },
    "kernelspec": {
      "name": "python3",
      "display_name": "Python 3"
    }
  },
  "cells": [
    {
      "cell_type": "markdown",
      "metadata": {
        "id": "view-in-github",
        "colab_type": "text"
      },
      "source": [
        "<a href=\"https://colab.research.google.com/github/sagudelom06/Clase-1-Ciencia-de-los-datos/blob/master/An%C3%A1lisis_de_datos_usando_Pandas.ipynb\" target=\"_parent\"><img src=\"https://colab.research.google.com/assets/colab-badge.svg\" alt=\"Open In Colab\"/></a>"
      ]
    },
    {
      "cell_type": "markdown",
      "metadata": {
        "id": "Qp9AZUNkffZm",
        "colab_type": "text"
      },
      "source": [
        "En este tutorial se presenta el análisis de una base de datos sobre vuelos usando Pndas. En este documento se ejemplifica el uso de DataFrames para la realización de consultas usando sus funciones nativas."
      ]
    },
    {
      "cell_type": "code",
      "metadata": {
        "id": "kCJzPVQhfUQ7",
        "colab_type": "code",
        "colab": {}
      },
      "source": [
        "\n",
        "## importa la librería\n",
        "import pandas as pd\n",
        "import numpy as np\n",
        "pd.set_option('display.notebook_repr_html', True)"
      ],
      "execution_count": 0,
      "outputs": []
    },
    {
      "cell_type": "code",
      "metadata": {
        "id": "0qLKAWGwfyr4",
        "colab_type": "code",
        "colab": {}
      },
      "source": [
        "##\n",
        "## Crea un DataFrame a partir del archivo fligths.csv\n",
        "##\n",
        "flights = pd.read_csv(\n",
        "    \"https://raw.githubusercontent.com/jdvelasq/datalabs/master/to-do/flights.csv\",\n",
        "    sep = ',',         # separador de campos\n",
        "    thousands = None,  # separador de miles para números\n",
        "    decimal = '.')     # separador de los decimales para números"
      ],
      "execution_count": 0,
      "outputs": []
    },
    {
      "cell_type": "code",
      "metadata": {
        "id": "u7cNrKm4gMv3",
        "colab_type": "code",
        "colab": {
          "base_uri": "https://localhost:8080/",
          "height": 317
        },
        "outputId": "7af822e8-fd93-47a5-ccc7-3d27988ad1a7"
      },
      "source": [
        "##\n",
        "## Se imprime el esquema para verificar la lectura\n",
        "## del archivo.\n",
        "##\n",
        "flights.describe()"
      ],
      "execution_count": 4,
      "outputs": [
        {
          "output_type": "execute_result",
          "data": {
            "text/html": [
              "<div>\n",
              "<style scoped>\n",
              "    .dataframe tbody tr th:only-of-type {\n",
              "        vertical-align: middle;\n",
              "    }\n",
              "\n",
              "    .dataframe tbody tr th {\n",
              "        vertical-align: top;\n",
              "    }\n",
              "\n",
              "    .dataframe thead th {\n",
              "        text-align: right;\n",
              "    }\n",
              "</style>\n",
              "<table border=\"1\" class=\"dataframe\">\n",
              "  <thead>\n",
              "    <tr style=\"text-align: right;\">\n",
              "      <th></th>\n",
              "      <th>Year</th>\n",
              "      <th>Month</th>\n",
              "      <th>DayofMonth</th>\n",
              "      <th>DayOfWeek</th>\n",
              "      <th>DepTime</th>\n",
              "      <th>CRSDepTime</th>\n",
              "      <th>ArrTime</th>\n",
              "      <th>CRSArrTime</th>\n",
              "      <th>FlightNum</th>\n",
              "      <th>ActualElapsedTime</th>\n",
              "      <th>CRSElapsedTime</th>\n",
              "      <th>AirTime</th>\n",
              "      <th>ArrDelay</th>\n",
              "      <th>DepDelay</th>\n",
              "      <th>Distance</th>\n",
              "      <th>TaxiIn</th>\n",
              "      <th>TaxiOut</th>\n",
              "      <th>Cancelled</th>\n",
              "      <th>Diverted</th>\n",
              "      <th>CarrierDelay</th>\n",
              "      <th>WeatherDelay</th>\n",
              "      <th>NASDelay</th>\n",
              "      <th>SecurityDelay</th>\n",
              "      <th>LateAircraftDelay</th>\n",
              "    </tr>\n",
              "  </thead>\n",
              "  <tbody>\n",
              "    <tr>\n",
              "      <th>count</th>\n",
              "      <td>100000.0</td>\n",
              "      <td>100000.0</td>\n",
              "      <td>100000.000000</td>\n",
              "      <td>100000.000000</td>\n",
              "      <td>98858.000000</td>\n",
              "      <td>100000.000000</td>\n",
              "      <td>98698.000000</td>\n",
              "      <td>100000.000000</td>\n",
              "      <td>100000.000000</td>\n",
              "      <td>98698.000000</td>\n",
              "      <td>100000.000000</td>\n",
              "      <td>98698.000000</td>\n",
              "      <td>98698.000000</td>\n",
              "      <td>98858.000000</td>\n",
              "      <td>100000.000000</td>\n",
              "      <td>98698.000000</td>\n",
              "      <td>98858.000000</td>\n",
              "      <td>100000.000000</td>\n",
              "      <td>100000.000000</td>\n",
              "      <td>19629.000000</td>\n",
              "      <td>19629.000000</td>\n",
              "      <td>19629.000000</td>\n",
              "      <td>19629.000000</td>\n",
              "      <td>19629.000000</td>\n",
              "    </tr>\n",
              "    <tr>\n",
              "      <th>mean</th>\n",
              "      <td>2008.0</td>\n",
              "      <td>1.0</td>\n",
              "      <td>17.087860</td>\n",
              "      <td>3.890040</td>\n",
              "      <td>1355.200722</td>\n",
              "      <td>1341.989400</td>\n",
              "      <td>1492.739225</td>\n",
              "      <td>1502.601540</td>\n",
              "      <td>1510.648540</td>\n",
              "      <td>107.558502</td>\n",
              "      <td>111.989540</td>\n",
              "      <td>91.863797</td>\n",
              "      <td>5.729954</td>\n",
              "      <td>10.379049</td>\n",
              "      <td>630.586320</td>\n",
              "      <td>4.768962</td>\n",
              "      <td>10.927765</td>\n",
              "      <td>0.011420</td>\n",
              "      <td>0.001600</td>\n",
              "      <td>9.573488</td>\n",
              "      <td>2.036120</td>\n",
              "      <td>8.353151</td>\n",
              "      <td>0.110805</td>\n",
              "      <td>29.343675</td>\n",
              "    </tr>\n",
              "    <tr>\n",
              "      <th>std</th>\n",
              "      <td>0.0</td>\n",
              "      <td>0.0</td>\n",
              "      <td>8.356364</td>\n",
              "      <td>1.952999</td>\n",
              "      <td>464.089632</td>\n",
              "      <td>451.356984</td>\n",
              "      <td>496.376794</td>\n",
              "      <td>478.100216</td>\n",
              "      <td>1186.128598</td>\n",
              "      <td>55.350971</td>\n",
              "      <td>57.209135</td>\n",
              "      <td>54.208224</td>\n",
              "      <td>30.966959</td>\n",
              "      <td>28.384428</td>\n",
              "      <td>437.357075</td>\n",
              "      <td>2.983635</td>\n",
              "      <td>5.989580</td>\n",
              "      <td>0.106253</td>\n",
              "      <td>0.039968</td>\n",
              "      <td>21.836836</td>\n",
              "      <td>13.815868</td>\n",
              "      <td>18.826087</td>\n",
              "      <td>1.724888</td>\n",
              "      <td>39.753529</td>\n",
              "    </tr>\n",
              "    <tr>\n",
              "      <th>min</th>\n",
              "      <td>2008.0</td>\n",
              "      <td>1.0</td>\n",
              "      <td>1.000000</td>\n",
              "      <td>1.000000</td>\n",
              "      <td>1.000000</td>\n",
              "      <td>600.000000</td>\n",
              "      <td>1.000000</td>\n",
              "      <td>5.000000</td>\n",
              "      <td>1.000000</td>\n",
              "      <td>25.000000</td>\n",
              "      <td>17.000000</td>\n",
              "      <td>12.000000</td>\n",
              "      <td>-57.000000</td>\n",
              "      <td>-44.000000</td>\n",
              "      <td>66.000000</td>\n",
              "      <td>1.000000</td>\n",
              "      <td>1.000000</td>\n",
              "      <td>0.000000</td>\n",
              "      <td>0.000000</td>\n",
              "      <td>0.000000</td>\n",
              "      <td>0.000000</td>\n",
              "      <td>0.000000</td>\n",
              "      <td>0.000000</td>\n",
              "      <td>0.000000</td>\n",
              "    </tr>\n",
              "    <tr>\n",
              "      <th>25%</th>\n",
              "      <td>2008.0</td>\n",
              "      <td>1.0</td>\n",
              "      <td>10.000000</td>\n",
              "      <td>2.000000</td>\n",
              "      <td>942.000000</td>\n",
              "      <td>940.000000</td>\n",
              "      <td>1114.000000</td>\n",
              "      <td>1120.000000</td>\n",
              "      <td>502.000000</td>\n",
              "      <td>68.000000</td>\n",
              "      <td>70.000000</td>\n",
              "      <td>53.000000</td>\n",
              "      <td>-9.000000</td>\n",
              "      <td>-2.000000</td>\n",
              "      <td>324.000000</td>\n",
              "      <td>3.000000</td>\n",
              "      <td>8.000000</td>\n",
              "      <td>0.000000</td>\n",
              "      <td>0.000000</td>\n",
              "      <td>0.000000</td>\n",
              "      <td>0.000000</td>\n",
              "      <td>0.000000</td>\n",
              "      <td>0.000000</td>\n",
              "      <td>1.000000</td>\n",
              "    </tr>\n",
              "    <tr>\n",
              "      <th>50%</th>\n",
              "      <td>2008.0</td>\n",
              "      <td>1.0</td>\n",
              "      <td>17.000000</td>\n",
              "      <td>4.000000</td>\n",
              "      <td>1344.000000</td>\n",
              "      <td>1335.000000</td>\n",
              "      <td>1518.000000</td>\n",
              "      <td>1520.000000</td>\n",
              "      <td>1320.000000</td>\n",
              "      <td>88.000000</td>\n",
              "      <td>90.000000</td>\n",
              "      <td>71.000000</td>\n",
              "      <td>-2.000000</td>\n",
              "      <td>1.000000</td>\n",
              "      <td>453.000000</td>\n",
              "      <td>4.000000</td>\n",
              "      <td>9.000000</td>\n",
              "      <td>0.000000</td>\n",
              "      <td>0.000000</td>\n",
              "      <td>1.000000</td>\n",
              "      <td>0.000000</td>\n",
              "      <td>0.000000</td>\n",
              "      <td>0.000000</td>\n",
              "      <td>18.000000</td>\n",
              "    </tr>\n",
              "    <tr>\n",
              "      <th>75%</th>\n",
              "      <td>2008.0</td>\n",
              "      <td>1.0</td>\n",
              "      <td>24.000000</td>\n",
              "      <td>5.000000</td>\n",
              "      <td>1743.000000</td>\n",
              "      <td>1730.000000</td>\n",
              "      <td>1913.000000</td>\n",
              "      <td>1910.000000</td>\n",
              "      <td>2362.000000</td>\n",
              "      <td>135.000000</td>\n",
              "      <td>145.000000</td>\n",
              "      <td>119.000000</td>\n",
              "      <td>10.000000</td>\n",
              "      <td>10.000000</td>\n",
              "      <td>843.000000</td>\n",
              "      <td>5.000000</td>\n",
              "      <td>12.000000</td>\n",
              "      <td>0.000000</td>\n",
              "      <td>0.000000</td>\n",
              "      <td>11.000000</td>\n",
              "      <td>0.000000</td>\n",
              "      <td>10.000000</td>\n",
              "      <td>0.000000</td>\n",
              "      <td>37.000000</td>\n",
              "    </tr>\n",
              "    <tr>\n",
              "      <th>max</th>\n",
              "      <td>2008.0</td>\n",
              "      <td>1.0</td>\n",
              "      <td>31.000000</td>\n",
              "      <td>7.000000</td>\n",
              "      <td>2359.000000</td>\n",
              "      <td>2235.000000</td>\n",
              "      <td>2400.000000</td>\n",
              "      <td>2355.000000</td>\n",
              "      <td>7676.000000</td>\n",
              "      <td>382.000000</td>\n",
              "      <td>370.000000</td>\n",
              "      <td>369.000000</td>\n",
              "      <td>500.000000</td>\n",
              "      <td>516.000000</td>\n",
              "      <td>2363.000000</td>\n",
              "      <td>213.000000</td>\n",
              "      <td>150.000000</td>\n",
              "      <td>1.000000</td>\n",
              "      <td>1.000000</td>\n",
              "      <td>431.000000</td>\n",
              "      <td>267.000000</td>\n",
              "      <td>366.000000</td>\n",
              "      <td>88.000000</td>\n",
              "      <td>434.000000</td>\n",
              "    </tr>\n",
              "  </tbody>\n",
              "</table>\n",
              "</div>"
            ],
            "text/plain": [
              "           Year     Month  ...  SecurityDelay  LateAircraftDelay\n",
              "count  100000.0  100000.0  ...   19629.000000       19629.000000\n",
              "mean     2008.0       1.0  ...       0.110805          29.343675\n",
              "std         0.0       0.0  ...       1.724888          39.753529\n",
              "min      2008.0       1.0  ...       0.000000           0.000000\n",
              "25%      2008.0       1.0  ...       0.000000           1.000000\n",
              "50%      2008.0       1.0  ...       0.000000          18.000000\n",
              "75%      2008.0       1.0  ...       0.000000          37.000000\n",
              "max      2008.0       1.0  ...      88.000000         434.000000\n",
              "\n",
              "[8 rows x 24 columns]"
            ]
          },
          "metadata": {
            "tags": []
          },
          "execution_count": 4
        }
      ]
    },
    {
      "cell_type": "code",
      "metadata": {
        "id": "p7ODeKdfgU4W",
        "colab_type": "code",
        "colab": {
          "base_uri": "https://localhost:8080/",
          "height": 34
        },
        "outputId": "cc45fffc-d9cc-445b-f8aa-732aba252986"
      },
      "source": [
        "len(flights)"
      ],
      "execution_count": 5,
      "outputs": [
        {
          "output_type": "execute_result",
          "data": {
            "text/plain": [
              "100000"
            ]
          },
          "metadata": {
            "tags": []
          },
          "execution_count": 5
        }
      ]
    },
    {
      "cell_type": "code",
      "metadata": {
        "id": "h3WKzQKUgal6",
        "colab_type": "code",
        "colab": {
          "base_uri": "https://localhost:8080/",
          "height": 34
        },
        "outputId": "f3e3364b-360d-49f9-bffe-4c14fd49795e"
      },
      "source": [
        "#saco el numero de columnas del data frame, mirando el largo de la fila 1\n",
        "flights.shape[1]"
      ],
      "execution_count": 8,
      "outputs": [
        {
          "output_type": "execute_result",
          "data": {
            "text/plain": [
              "29"
            ]
          },
          "metadata": {
            "tags": []
          },
          "execution_count": 8
        }
      ]
    },
    {
      "cell_type": "code",
      "metadata": {
        "id": "FUhr61yMhA_3",
        "colab_type": "code",
        "colab": {
          "base_uri": "https://localhost:8080/",
          "height": 204
        },
        "outputId": "8443dc44-db3b-49cc-f774-56483dfaaf41"
      },
      "source": [
        "##\n",
        "## Se imprime un subconjunto de las columnas para verificar\n",
        "## la lectura\n",
        "##\n",
        "flights[['UniqueCarrier', 'FlightNum', 'DepDelay', 'ArrDelay', 'Distance']].head(5)"
      ],
      "execution_count": 10,
      "outputs": [
        {
          "output_type": "execute_result",
          "data": {
            "text/html": [
              "<div>\n",
              "<style scoped>\n",
              "    .dataframe tbody tr th:only-of-type {\n",
              "        vertical-align: middle;\n",
              "    }\n",
              "\n",
              "    .dataframe tbody tr th {\n",
              "        vertical-align: top;\n",
              "    }\n",
              "\n",
              "    .dataframe thead th {\n",
              "        text-align: right;\n",
              "    }\n",
              "</style>\n",
              "<table border=\"1\" class=\"dataframe\">\n",
              "  <thead>\n",
              "    <tr style=\"text-align: right;\">\n",
              "      <th></th>\n",
              "      <th>UniqueCarrier</th>\n",
              "      <th>FlightNum</th>\n",
              "      <th>DepDelay</th>\n",
              "      <th>ArrDelay</th>\n",
              "      <th>Distance</th>\n",
              "    </tr>\n",
              "  </thead>\n",
              "  <tbody>\n",
              "    <tr>\n",
              "      <th>0</th>\n",
              "      <td>WN</td>\n",
              "      <td>335</td>\n",
              "      <td>8.0</td>\n",
              "      <td>-14.0</td>\n",
              "      <td>810</td>\n",
              "    </tr>\n",
              "    <tr>\n",
              "      <th>1</th>\n",
              "      <td>WN</td>\n",
              "      <td>3231</td>\n",
              "      <td>19.0</td>\n",
              "      <td>2.0</td>\n",
              "      <td>810</td>\n",
              "    </tr>\n",
              "    <tr>\n",
              "      <th>2</th>\n",
              "      <td>WN</td>\n",
              "      <td>448</td>\n",
              "      <td>8.0</td>\n",
              "      <td>14.0</td>\n",
              "      <td>515</td>\n",
              "    </tr>\n",
              "    <tr>\n",
              "      <th>3</th>\n",
              "      <td>WN</td>\n",
              "      <td>1746</td>\n",
              "      <td>-4.0</td>\n",
              "      <td>-6.0</td>\n",
              "      <td>515</td>\n",
              "    </tr>\n",
              "    <tr>\n",
              "      <th>4</th>\n",
              "      <td>WN</td>\n",
              "      <td>3920</td>\n",
              "      <td>34.0</td>\n",
              "      <td>34.0</td>\n",
              "      <td>515</td>\n",
              "    </tr>\n",
              "  </tbody>\n",
              "</table>\n",
              "</div>"
            ],
            "text/plain": [
              "  UniqueCarrier  FlightNum  DepDelay  ArrDelay  Distance\n",
              "0            WN        335       8.0     -14.0       810\n",
              "1            WN       3231      19.0       2.0       810\n",
              "2            WN        448       8.0      14.0       515\n",
              "3            WN       1746      -4.0      -6.0       515\n",
              "4            WN       3920      34.0      34.0       515"
            ]
          },
          "metadata": {
            "tags": []
          },
          "execution_count": 10
        }
      ]
    },
    {
      "cell_type": "code",
      "metadata": {
        "id": "hEY0P0qZhLX_",
        "colab_type": "code",
        "colab": {
          "base_uri": "https://localhost:8080/",
          "height": 34
        },
        "outputId": "4ef60a27-3939-4248-c700-526c56c488fe"
      },
      "source": [
        "\n",
        "##\n",
        "## Número total de registros leidos\n",
        "##\n",
        "numTotalFlights = len(flights)\n",
        "numTotalFlights"
      ],
      "execution_count": 11,
      "outputs": [
        {
          "output_type": "execute_result",
          "data": {
            "text/plain": [
              "100000"
            ]
          },
          "metadata": {
            "tags": []
          },
          "execution_count": 11
        }
      ]
    },
    {
      "cell_type": "markdown",
      "metadata": {
        "id": "abnKfGTkhPS-",
        "colab_type": "text"
      },
      "source": [
        "# Cálculos usando funciones de los DataFrames\n",
        "\n",
        "**Cómputo del porcentaje de vuelos retrasados**"
      ]
    },
    {
      "cell_type": "code",
      "metadata": {
        "id": "xag5hUKbhvvI",
        "colab_type": "code",
        "colab": {
          "base_uri": "https://localhost:8080/",
          "height": 1000
        },
        "outputId": "9d80f01d-89a7-4d45-eb76-22e3d59ef5c7"
      },
      "source": [
        "flights['DepDelay']>15"
      ],
      "execution_count": 15,
      "outputs": [
        {
          "output_type": "execute_result",
          "data": {
            "text/plain": [
              "0        False\n",
              "1         True\n",
              "2        False\n",
              "3        False\n",
              "4         True\n",
              "5         True\n",
              "6         True\n",
              "7        False\n",
              "8        False\n",
              "9        False\n",
              "10       False\n",
              "11        True\n",
              "12       False\n",
              "13       False\n",
              "14       False\n",
              "15       False\n",
              "16        True\n",
              "17       False\n",
              "18        True\n",
              "19        True\n",
              "20       False\n",
              "21        True\n",
              "22        True\n",
              "23       False\n",
              "24       False\n",
              "25        True\n",
              "26        True\n",
              "27        True\n",
              "28       False\n",
              "29       False\n",
              "         ...  \n",
              "99970    False\n",
              "99971    False\n",
              "99972    False\n",
              "99973     True\n",
              "99974    False\n",
              "99975    False\n",
              "99976     True\n",
              "99977    False\n",
              "99978    False\n",
              "99979    False\n",
              "99980    False\n",
              "99981    False\n",
              "99982    False\n",
              "99983     True\n",
              "99984    False\n",
              "99985    False\n",
              "99986    False\n",
              "99987     True\n",
              "99988     True\n",
              "99989    False\n",
              "99990    False\n",
              "99991    False\n",
              "99992    False\n",
              "99993    False\n",
              "99994    False\n",
              "99995     True\n",
              "99996    False\n",
              "99997     True\n",
              "99998     True\n",
              "99999    False\n",
              "Name: DepDelay, Length: 100000, dtype: bool"
            ]
          },
          "metadata": {
            "tags": []
          },
          "execution_count": 15
        }
      ]
    },
    {
      "cell_type": "code",
      "metadata": {
        "id": "RESk6QvbhOb4",
        "colab_type": "code",
        "colab": {
          "base_uri": "https://localhost:8080/",
          "height": 204
        },
        "outputId": "747bef5c-4980-472f-e6ed-2439a53ce275"
      },
      "source": [
        "\n",
        "##\n",
        "## La variable delayedFlights contiene las columnas UniqueCarrier y DepDelay\n",
        "## para los vuelos con DepDelay > 15 minutos.\n",
        "##\n",
        "delayedFlights = flights[flights['DepDelay'] > 15][['UniqueCarrier', 'DepDelay']]\n",
        "delayedFlights.head(5)"
      ],
      "execution_count": 12,
      "outputs": [
        {
          "output_type": "execute_result",
          "data": {
            "text/html": [
              "<div>\n",
              "<style scoped>\n",
              "    .dataframe tbody tr th:only-of-type {\n",
              "        vertical-align: middle;\n",
              "    }\n",
              "\n",
              "    .dataframe tbody tr th {\n",
              "        vertical-align: top;\n",
              "    }\n",
              "\n",
              "    .dataframe thead th {\n",
              "        text-align: right;\n",
              "    }\n",
              "</style>\n",
              "<table border=\"1\" class=\"dataframe\">\n",
              "  <thead>\n",
              "    <tr style=\"text-align: right;\">\n",
              "      <th></th>\n",
              "      <th>UniqueCarrier</th>\n",
              "      <th>DepDelay</th>\n",
              "    </tr>\n",
              "  </thead>\n",
              "  <tbody>\n",
              "    <tr>\n",
              "      <th>1</th>\n",
              "      <td>WN</td>\n",
              "      <td>19.0</td>\n",
              "    </tr>\n",
              "    <tr>\n",
              "      <th>4</th>\n",
              "      <td>WN</td>\n",
              "      <td>34.0</td>\n",
              "    </tr>\n",
              "    <tr>\n",
              "      <th>5</th>\n",
              "      <td>WN</td>\n",
              "      <td>25.0</td>\n",
              "    </tr>\n",
              "    <tr>\n",
              "      <th>6</th>\n",
              "      <td>WN</td>\n",
              "      <td>67.0</td>\n",
              "    </tr>\n",
              "    <tr>\n",
              "      <th>11</th>\n",
              "      <td>WN</td>\n",
              "      <td>94.0</td>\n",
              "    </tr>\n",
              "  </tbody>\n",
              "</table>\n",
              "</div>"
            ],
            "text/plain": [
              "   UniqueCarrier  DepDelay\n",
              "1             WN      19.0\n",
              "4             WN      34.0\n",
              "5             WN      25.0\n",
              "6             WN      67.0\n",
              "11            WN      94.0"
            ]
          },
          "metadata": {
            "tags": []
          },
          "execution_count": 12
        }
      ]
    },
    {
      "cell_type": "code",
      "metadata": {
        "id": "sCQAvpoYh15x",
        "colab_type": "code",
        "colab": {
          "base_uri": "https://localhost:8080/",
          "height": 34
        },
        "outputId": "a63bddcd-1a94-46ca-8d9c-db8c7993cc00"
      },
      "source": [
        "##\n",
        "## Porcentaje de vuelos retrasados.\n",
        "##\n",
        "numDelayedFlights = len(delayedFlights)\n",
        "print(\"Porcentaje de vuelos retrasados: \" + str(numDelayedFlights / numTotalFlights * 100) + \"%\")"
      ],
      "execution_count": 16,
      "outputs": [
        {
          "output_type": "stream",
          "text": [
            "Porcentaje de vuelos retrasados: 19.587%\n"
          ],
          "name": "stdout"
        }
      ]
    },
    {
      "cell_type": "markdown",
      "metadata": {
        "id": "_g6wyeLFiB0w",
        "colab_type": "text"
      },
      "source": [
        "# Creación de variables usando funciones de usuario\n",
        "\n",
        "A continuación se desea crear una nueva columna llamada IsDelayed que vale 0 si el vuelo se realizó a tiempo y 1 si se retraso."
      ]
    },
    {
      "cell_type": "markdown",
      "metadata": {
        "id": "F6ObrHIRiIYc",
        "colab_type": "text"
      },
      "source": [
        "CREAMOS UNA COPIA DE LA TABLA ORIGINAL (FLIGHTS) Y LE AGREGAMOS LAS COLUMNAS NUEVAS(3)\n",
        "\n",
        ".map - es para aplicar una funcion a cada elemento de una columna que halla seleccionado (isDelayed)\n",
        "\n",
        "flightsWithDelays*['IsDelayed']* = flightsWithDelays*['IsDelayed']*.map(lambda x: 1 if x > 15 else 0)\n",
        "flightsWithDelays*['IsDelayed']* = flightsWithDelays*['IsDelayed']*.map(lambda x: 0 if np.isnan(x) else x)"
      ]
    },
    {
      "cell_type": "code",
      "metadata": {
        "id": "ZSnSXaSbkwwx",
        "colab_type": "code",
        "colab": {
          "base_uri": "https://localhost:8080/",
          "height": 359
        },
        "outputId": "b3beef4d-34ee-470d-c59d-09b0625a6b7b"
      },
      "source": [
        "flightsWithDelays = flights[['Year',\n",
        "                             'Month',\n",
        "                             'DayofMonth',\n",
        "                             'UniqueCarrier',\n",
        "                             'FlightNum',\n",
        "                             'DepDelay']].copy()\n",
        "\n",
        "flightsWithDelays['IsDelayed'] =  flightsWithDelays['DepDelay'].copy()\n",
        "flightsWithDelays['IsDelayed'] = flightsWithDelays['IsDelayed'].map(lambda x: 1 if x > 15 else 0)\n",
        "#si es nan devuelvame o si no el val de x\n",
        "flightsWithDelays['IsDelayed'] = flightsWithDelays['IsDelayed'].map(lambda x: 0 if np.isnan(x) else x)\n",
        "\n",
        "flightsWithDelays[['DepDelay', 'IsDelayed']].head(10)"
      ],
      "execution_count": 19,
      "outputs": [
        {
          "output_type": "execute_result",
          "data": {
            "text/html": [
              "<div>\n",
              "<style scoped>\n",
              "    .dataframe tbody tr th:only-of-type {\n",
              "        vertical-align: middle;\n",
              "    }\n",
              "\n",
              "    .dataframe tbody tr th {\n",
              "        vertical-align: top;\n",
              "    }\n",
              "\n",
              "    .dataframe thead th {\n",
              "        text-align: right;\n",
              "    }\n",
              "</style>\n",
              "<table border=\"1\" class=\"dataframe\">\n",
              "  <thead>\n",
              "    <tr style=\"text-align: right;\">\n",
              "      <th></th>\n",
              "      <th>DepDelay</th>\n",
              "      <th>IsDelayed</th>\n",
              "    </tr>\n",
              "  </thead>\n",
              "  <tbody>\n",
              "    <tr>\n",
              "      <th>0</th>\n",
              "      <td>8.0</td>\n",
              "      <td>0</td>\n",
              "    </tr>\n",
              "    <tr>\n",
              "      <th>1</th>\n",
              "      <td>19.0</td>\n",
              "      <td>1</td>\n",
              "    </tr>\n",
              "    <tr>\n",
              "      <th>2</th>\n",
              "      <td>8.0</td>\n",
              "      <td>0</td>\n",
              "    </tr>\n",
              "    <tr>\n",
              "      <th>3</th>\n",
              "      <td>-4.0</td>\n",
              "      <td>0</td>\n",
              "    </tr>\n",
              "    <tr>\n",
              "      <th>4</th>\n",
              "      <td>34.0</td>\n",
              "      <td>1</td>\n",
              "    </tr>\n",
              "    <tr>\n",
              "      <th>5</th>\n",
              "      <td>25.0</td>\n",
              "      <td>1</td>\n",
              "    </tr>\n",
              "    <tr>\n",
              "      <th>6</th>\n",
              "      <td>67.0</td>\n",
              "      <td>1</td>\n",
              "    </tr>\n",
              "    <tr>\n",
              "      <th>7</th>\n",
              "      <td>-1.0</td>\n",
              "      <td>0</td>\n",
              "    </tr>\n",
              "    <tr>\n",
              "      <th>8</th>\n",
              "      <td>2.0</td>\n",
              "      <td>0</td>\n",
              "    </tr>\n",
              "    <tr>\n",
              "      <th>9</th>\n",
              "      <td>0.0</td>\n",
              "      <td>0</td>\n",
              "    </tr>\n",
              "  </tbody>\n",
              "</table>\n",
              "</div>"
            ],
            "text/plain": [
              "   DepDelay  IsDelayed\n",
              "0       8.0          0\n",
              "1      19.0          1\n",
              "2       8.0          0\n",
              "3      -4.0          0\n",
              "4      34.0          1\n",
              "5      25.0          1\n",
              "6      67.0          1\n",
              "7      -1.0          0\n",
              "8       2.0          0\n",
              "9       0.0          0"
            ]
          },
          "metadata": {
            "tags": []
          },
          "execution_count": 19
        }
      ]
    },
    {
      "cell_type": "code",
      "metadata": {
        "id": "GM0pUICzjSlV",
        "colab_type": "code",
        "colab": {
          "base_uri": "https://localhost:8080/",
          "height": 34
        },
        "outputId": "24b5c2bd-744b-4942-dc9a-02f0cd34533f"
      },
      "source": [
        "##\n",
        "## A continuación, se calcula el porcentaje de vuelos con retrasos\n",
        "##\n",
        "flightsWithDelays.IsDelayed.sum() / flightsWithDelays.DepDelay.count()"
      ],
      "execution_count": 20,
      "outputs": [
        {
          "output_type": "execute_result",
          "data": {
            "text/plain": [
              "0.19813267515021546"
            ]
          },
          "metadata": {
            "tags": []
          },
          "execution_count": 20
        }
      ]
    },
    {
      "cell_type": "code",
      "metadata": {
        "id": "NwfP7OPzlCrs",
        "colab_type": "code",
        "colab": {
          "base_uri": "https://localhost:8080/",
          "height": 85
        },
        "outputId": "49afaf50-63d6-4832-a3a2-272e8ecad43f"
      },
      "source": [
        "##\n",
        "## Retrasos por transportador\n",
        "##\n",
        "%matplotlib inline\n",
        "#flights['IsDelayed'] = flights['DepDelay'].copy()\n",
        "#flights['IsDelayed'] = flights['IsDelayed'].map(lambda x: 1 if x > 15 else 0)\n",
        "#flights['IsDelayed'] = flights['IsDelayed'].map(lambda x: 0 if np.isnan(x) else x)\n",
        "(flights.groupby('UniqueCarrier').sum())[\"IsDelayed\"]"
      ],
      "execution_count": 24,
      "outputs": [
        {
          "output_type": "execute_result",
          "data": {
            "text/plain": [
              "UniqueCarrier\n",
              "WN    18573\n",
              "XE     1014\n",
              "Name: IsDelayed, dtype: int64"
            ]
          },
          "metadata": {
            "tags": []
          },
          "execution_count": 24
        }
      ]
    },
    {
      "cell_type": "code",
      "metadata": {
        "id": "CfD9z3IEle18",
        "colab_type": "code",
        "colab": {
          "base_uri": "https://localhost:8080/",
          "height": 290
        },
        "outputId": "583124a2-6079-45d7-99e6-f49c0492c060"
      },
      "source": [
        "##\n",
        "## Retrasos por transportador\n",
        "##\n",
        "%matplotlib inline\n",
        "#flights['IsDelayed'] = flights['DepDelay'].copy()\n",
        "#flights['IsDelayed'] = flights['IsDelayed'].map(lambda x: 1 if x > 15 else 0)\n",
        "#flights['IsDelayed'] = flights['IsDelayed'].map(lambda x: 0 if np.isnan(x) else x)\n",
        "(flights.groupby('UniqueCarrier').sum())[\"IsDelayed\"].plot.bar();"
      ],
      "execution_count": 25,
      "outputs": [
        {
          "output_type": "display_data",
          "data": {
            "image/png": "[encoded data removed]",
            "text/plain": [
              "<Figure size 432x288 with 1 Axes>"
            ]
          },
          "metadata": {
            "tags": []
          }
        }
      ]
    },
    {
      "cell_type": "code",
      "metadata": {
        "id": "zKmXQzgal9TE",
        "colab_type": "code",
        "colab": {
          "base_uri": "https://localhost:8080/",
          "height": 279
        },
        "outputId": "0f11ed96-0c85-4e97-d207-654f5b3b8b95"
      },
      "source": [
        "\n",
        "##\n",
        "## Compute los retrasos por dia de la semana\n",
        "##\n",
        "(flights.groupby('DayOfWeek').sum())[\"IsDelayed\"].plot.bar();"
      ],
      "execution_count": 26,
      "outputs": [
        {
          "output_type": "display_data",
          "data": {
            "image/png": "[encoded data removed]",
            "text/plain": [
              "<Figure size 432x288 with 1 Axes>"
            ]
          },
          "metadata": {
            "tags": []
          }
        }
      ]
    },
    {
      "cell_type": "code",
      "metadata": {
        "id": "R7Kx8qKhmBtQ",
        "colab_type": "code",
        "colab": {
          "base_uri": "https://localhost:8080/",
          "height": 295
        },
        "outputId": "f6a6ebe3-232c-4f5a-a0d3-b09d72144548"
      },
      "source": [
        "##\n",
        "## Compute los retrasos por hora del dia\n",
        "##\n",
        "flights['hour'] = flights['DepTime'].copy()\n",
        "flights['hour'] = flights['hour'].map(lambda x: int(x/100) if not np.isnan(x) else x)\n",
        "(flights.groupby('hour').sum())[\"IsDelayed\"].plot.bar();"
      ],
      "execution_count": 27,
      "outputs": [
        {
          "output_type": "display_data",
          "data": {
            "image/png": "[encoded data removed]",
            "text/plain": [
              "<Figure size 432x288 with 1 Axes>"
            ]
          },
          "metadata": {
            "tags": []
          }
        }
      ]
    }
  ]
}