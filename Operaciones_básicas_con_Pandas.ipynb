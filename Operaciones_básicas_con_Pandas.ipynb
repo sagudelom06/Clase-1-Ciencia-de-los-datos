{
  "nbformat": 4,
  "nbformat_minor": 0,
  "metadata": {
    "colab": {
      "name": "Operaciones básicas con Pandas.ipynb",
      "provenance": [],
      "include_colab_link": true
    },
    "kernelspec": {
      "name": "python3",
      "display_name": "Python 3"
    }
  },
  "cells": [
    {
      "cell_type": "markdown",
      "metadata": {
        "id": "view-in-github",
        "colab_type": "text"
      },
      "source": [
        "<a href=\"https://colab.research.google.com/github/sagudelom06/Clase-1-Ciencia-de-los-datos/blob/master/Operaciones_b%C3%A1sicas_con_Pandas.ipynb\" target=\"_parent\"><img src=\"https://colab.research.google.com/assets/colab-badge.svg\" alt=\"Open In Colab\"/></a>"
      ]
    },
    {
      "cell_type": "markdown",
      "metadata": {
        "id": "1sXdeUPaRfh1",
        "colab_type": "text"
      },
      "source": [
        "Operaciones básicas con Pandas\n",
        "\n",
        "En este tutorial se ejemplifica:\n",
        "\n",
        "\n",
        "\n",
        "La carga de datos\n",
        "\n",
        "La selección básica de datos.\n",
        "\n",
        "La exportación de resultados."
      ]
    },
    {
      "cell_type": "code",
      "metadata": {
        "id": "eKpWfT-1Rb90",
        "colab_type": "code",
        "colab": {}
      },
      "source": [
        "## importa la librería\n",
        "import pandas as pd\n",
        "import numpy as np\n",
        "pd.set_option('display.notebook_repr_html', False)"
      ],
      "execution_count": 0,
      "outputs": []
    },
    {
      "cell_type": "code",
      "metadata": {
        "id": "eOvuNcPlR4YD",
        "colab_type": "code",
        "colab": {
          "base_uri": "https://localhost:8080/",
          "height": 1000
        },
        "outputId": "3e540b76-762a-40c6-e602-cbde710ba558"
      },
      "source": [
        "truck_events = pd.read_csv(\n",
        "    \"https://raw.githubusercontent.com/jdvelasq/datalabs/master/datasets/drivers/truck_event_text_partition.csv\",\n",
        "    sep = ',',         # separador de campos\n",
        "    thousands = None,  # separador de miles para números\n",
        "    decimal = '.')     # separador de los decimales para números\n",
        "\n",
        "truck_events"
      ],
      "execution_count": 7,
      "outputs": [
        {
          "output_type": "execute_result",
          "data": {
            "text/plain": [
              "       driverId  truckId  ...                               routeName      eventDate\n",
              "0            14       25  ...           Joplin to Kansas City Route 2  2016-05-27-22\n",
              "1            18       16  ...           Springfield to KC Via Hanibal  2016-05-27-22\n",
              "2            27      105  ...  Springfield to KC Via Columbia Route 2  2016-05-27-22\n",
              "3            11       74  ...           Saint Louis to Memphis Route2  2016-05-27-22\n",
              "4            22       87  ...           Saint Louis to Chicago Route2  2016-05-27-22\n",
              "5            22       87  ...           Saint Louis to Chicago Route2  2016-05-27-22\n",
              "6            23       68  ...           Joplin to Kansas City Route 2  2016-05-27-22\n",
              "7            11       74  ...           Saint Louis to Memphis Route2  2016-05-27-22\n",
              "8            20       41  ...           Des Moines to Chicago Route 2  2016-05-27-22\n",
              "9            32       42  ...          Peoria to Ceder Rapids Route 2  2016-05-27-22\n",
              "10           27      105  ...  Springfield to KC Via Columbia Route 2  2016-05-27-22\n",
              "11           17       15  ...          Springfield to KC Via Columbia  2016-05-27-22\n",
              "12           14       25  ...           Joplin to Kansas City Route 2  2016-05-27-22\n",
              "13           28       39  ...   Springfield to KC Via Hanibal Route 2  2016-05-27-22\n",
              "14           15       51  ...                   Joplin to Kansas City  2016-05-27-22\n",
              "15           16       12  ...                  Saint Louis to Memphis  2016-05-27-22\n",
              "16           31       18  ...          Memphis to Little Rock Route 2  2016-05-27-22\n",
              "17           25       96  ...                  Memphis to Little Rock  2016-05-27-22\n",
              "18           14       25  ...           Joplin to Kansas City Route 2  2016-05-27-22\n",
              "19           22       87  ...           Saint Louis to Chicago Route2  2016-05-27-22\n",
              "20           32       42  ...          Peoria to Ceder Rapids Route 2  2016-05-27-22\n",
              "21           24       97  ...          Peoria to Ceder Rapids Route 2  2016-05-27-22\n",
              "22           25       96  ...                  Memphis to Little Rock  2016-05-27-22\n",
              "23           29       66  ...          Wichita to Little Rock Route 2  2016-05-27-22\n",
              "24           22       87  ...           Saint Louis to Chicago Route2  2016-05-27-22\n",
              "25           18       16  ...           Springfield to KC Via Hanibal  2016-05-27-22\n",
              "26           19       26  ...              Wichita to Little Rock.kml  2016-05-27-22\n",
              "27           26       57  ...             Saint Louis to Tulsa Route2  2016-05-27-22\n",
              "28           16       12  ...                  Saint Louis to Memphis  2016-05-27-22\n",
              "29           21      109  ...          Memphis to Little Rock Route 2  2016-05-27-22\n",
              "...         ...      ...  ...                                     ...            ...\n",
              "17045        26       17  ...             Saint Louis to Tulsa Route2  2016-06-02-20\n",
              "17046        14       18  ...                  Peoria to Ceder Rapids  2016-06-02-20\n",
              "17047        21      105  ...          Memphis to Little Rock Route 2  2016-06-02-20\n",
              "17048        31       48  ...           Des Moines to Chicago Route 2  2016-06-02-20\n",
              "17049        27       81  ...  Springfield to KC Via Columbia Route 2  2016-06-02-20\n",
              "17050        26       17  ...             Saint Louis to Tulsa Route2  2016-06-02-20\n",
              "17051        15       32  ...                  Memphis to Little Rock  2016-06-02-20\n",
              "17052        24       68  ...               Des Moines to Chicago.kml  2016-06-02-20\n",
              "17053        22       24  ...          Peoria to Ceder Rapids Route 2  2016-06-02-20\n",
              "17054        27       81  ...  Springfield to KC Via Columbia Route 2  2016-06-02-20\n",
              "17055        14       18  ...                  Peoria to Ceder Rapids  2016-06-02-20\n",
              "17056        20       79  ...          Peoria to Ceder Rapids Route 2  2016-06-02-20\n",
              "17057        17       92  ...          Springfield to KC Via Columbia  2016-06-02-20\n",
              "17058        21      105  ...          Memphis to Little Rock Route 2  2016-06-02-20\n",
              "17059        14       18  ...                  Peoria to Ceder Rapids  2016-06-02-20\n",
              "17060        23       66  ...                  Saint Louis to Memphis  2016-06-02-20\n",
              "17061        12       74  ...                   Joplin to Kansas City  2016-06-02-20\n",
              "17062        27       81  ...  Springfield to KC Via Columbia Route 2  2016-06-02-20\n",
              "17063        13       12  ...                  Saint Louis to Chicago  2016-06-02-20\n",
              "17064        24       68  ...               Des Moines to Chicago.kml  2016-06-02-20\n",
              "17065        21      105  ...          Memphis to Little Rock Route 2  2016-06-02-20\n",
              "17066        11       27  ...           Saint Louis to Chicago Route2  2016-06-02-20\n",
              "17067        30       95  ...           Saint Louis to Chicago Route2  2016-06-02-20\n",
              "17068        31       48  ...           Des Moines to Chicago Route 2  2016-06-02-20\n",
              "17069        22       24  ...          Peoria to Ceder Rapids Route 2  2016-06-02-20\n",
              "17070        11       27  ...           Saint Louis to Chicago Route2  2016-06-02-20\n",
              "17071        16       46  ...           Joplin to Kansas City Route 2  2016-06-02-20\n",
              "17072        18       49  ...           Springfield to KC Via Hanibal  2016-06-02-20\n",
              "17073        10       39  ...                    Saint Louis to Tulsa  2016-06-02-20\n",
              "17074        19      100  ...              Wichita to Little Rock.kml  2016-06-02-20\n",
              "\n",
              "[17075 rows x 12 columns]"
            ]
          },
          "metadata": {
            "tags": []
          },
          "execution_count": 7
        }
      ]
    },
    {
      "cell_type": "markdown",
      "metadata": {
        "id": "c4O-dX1qSLYn",
        "colab_type": "text"
      },
      "source": [
        "Se verifican las propiedades de la tabla después de la carga de datos."
      ]
    },
    {
      "cell_type": "code",
      "metadata": {
        "id": "PSdhEgVxSIQe",
        "colab_type": "code",
        "colab": {
          "base_uri": "https://localhost:8080/",
          "height": 34
        },
        "outputId": "e93b7143-dd7b-4f4a-e668-7f22af98a3f9"
      },
      "source": [
        "len(truck_events)"
      ],
      "execution_count": 8,
      "outputs": [
        {
          "output_type": "execute_result",
          "data": {
            "text/plain": [
              "17075"
            ]
          },
          "metadata": {
            "tags": []
          },
          "execution_count": 8
        }
      ]
    },
    {
      "cell_type": "markdown",
      "metadata": {
        "id": "6YGLOrlJSSvV",
        "colab_type": "text"
      },
      "source": [
        "CON ESTE CODIGO CONSULTO LOS TITULOS DE LAS COLUMNAS\n"
      ]
    },
    {
      "cell_type": "code",
      "metadata": {
        "id": "rd-OdsHISOth",
        "colab_type": "code",
        "colab": {
          "base_uri": "https://localhost:8080/",
          "height": 85
        },
        "outputId": "910ca33a-d39a-482e-fca1-a461fe04d152"
      },
      "source": [
        "truck_events.columns"
      ],
      "execution_count": 9,
      "outputs": [
        {
          "output_type": "execute_result",
          "data": {
            "text/plain": [
              "Index(['driverId', 'truckId', 'eventTime', 'eventType', 'longitude',\n",
              "       'latitude', 'eventKey', 'CorrelationId', 'driverName', 'routeId',\n",
              "       'routeName', 'eventDate'],\n",
              "      dtype='object')"
            ]
          },
          "metadata": {
            "tags": []
          },
          "execution_count": 9
        }
      ]
    },
    {
      "cell_type": "markdown",
      "metadata": {
        "id": "os2tTrzASZ-L",
        "colab_type": "text"
      },
      "source": [
        "CONSULTO LA INFORMACION PRINCIPAL DE LA TABLA\n"
      ]
    },
    {
      "cell_type": "code",
      "metadata": {
        "id": "0gbA3C3VSgYt",
        "colab_type": "code",
        "colab": {
          "base_uri": "https://localhost:8080/",
          "height": 204
        },
        "outputId": "1931f45b-c3a3-4951-9dfd-348de6000aac"
      },
      "source": [
        "truck_events.describe()"
      ],
      "execution_count": 10,
      "outputs": [
        {
          "output_type": "execute_result",
          "data": {
            "text/plain": [
              "           driverId       truckId  ...  CorrelationId       routeId\n",
              "count  17075.000000  17075.000000  ...   1.707500e+04  1.707500e+04\n",
              "mean      21.043104     55.424480  ...   5.373716e+17  1.034766e+09\n",
              "std        6.612549     28.936049  ...   1.295419e+18  6.233880e+08\n",
              "min       10.000000     10.000000  ...   1.000000e+03  2.492948e+07\n",
              "25%       15.000000     27.000000  ...   1.000000e+03  3.711828e+08\n",
              "50%       21.000000     55.000000  ...   1.000000e+03  1.198243e+09\n",
              "75%       27.000000     81.000000  ...   1.000000e+03  1.565885e+09\n",
              "max       32.000000    109.000000  ...   3.660000e+18  1.962262e+09\n",
              "\n",
              "[8 rows x 6 columns]"
            ]
          },
          "metadata": {
            "tags": []
          },
          "execution_count": 10
        }
      ]
    }
  ]
}