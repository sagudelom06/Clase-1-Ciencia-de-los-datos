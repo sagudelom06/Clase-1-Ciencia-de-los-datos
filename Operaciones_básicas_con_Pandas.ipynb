{
  "nbformat": 4,
  "nbformat_minor": 0,
  "metadata": {
    "colab": {
      "name": "Operaciones básicas con Pandas.ipynb",
      "provenance": [],
      "collapsed_sections": [],
      "include_colab_link": true
    },
    "kernelspec": {
      "name": "python3",
      "display_name": "Python 3"
    }
  },
  "cells": [
    {
      "cell_type": "markdown",
      "metadata": {
        "id": "view-in-github",
        "colab_type": "text"
      },
      "source": [
        "<a href=\"https://colab.research.google.com/github/sagudelom06/Clase-1-Ciencia-de-los-datos/blob/master/Operaciones_b%C3%A1sicas_con_Pandas.ipynb\" target=\"_parent\"><img src=\"https://colab.research.google.com/assets/colab-badge.svg\" alt=\"Open In Colab\"/></a>"
      ]
    },
    {
      "cell_type": "markdown",
      "metadata": {
        "id": "1sXdeUPaRfh1",
        "colab_type": "text"
      },
      "source": [
        "Operaciones básicas con Pandas\n",
        "\n",
        "En este tutorial se ejemplifica:\n",
        "\n",
        "\n",
        "\n",
        "La carga de datos\n",
        "\n",
        "La selección básica de datos.\n",
        "\n",
        "La exportación de resultados."
      ]
    },
    {
      "cell_type": "code",
      "metadata": {
        "id": "eKpWfT-1Rb90",
        "colab_type": "code",
        "colab": {}
      },
      "source": [
        "## importa la librería\n",
        "import pandas as pd\n",
        "import numpy as np\n",
        "pd.set_option('display.notebook_repr_html', False)"
      ],
      "execution_count": 0,
      "outputs": []
    },
    {
      "cell_type": "code",
      "metadata": {
        "id": "eOvuNcPlR4YD",
        "colab_type": "code",
        "outputId": "ab0a1ddf-2947-43d8-d5c2-515cc0075286",
        "colab": {
          "base_uri": "https://localhost:8080/",
          "height": 1000
        }
      },
      "source": [
        "truck_events = pd.read_csv(\n",
        "    \"https://raw.githubusercontent.com/jdvelasq/datalabs/master/datasets/drivers/truck_event_text_partition.csv\",\n",
        "    sep = ',',         # separador de campos\n",
        "    thousands = None,  # separador de miles para números\n",
        "    decimal = '.')     # separador de los decimales para números\n",
        "\n",
        "truck_events"
      ],
      "execution_count": 52,
      "outputs": [
        {
          "output_type": "execute_result",
          "data": {
            "text/plain": [
              "       driverId  truckId  ...                               routeName      eventDate\n",
              "0            14       25  ...           Joplin to Kansas City Route 2  2016-05-27-22\n",
              "1            18       16  ...           Springfield to KC Via Hanibal  2016-05-27-22\n",
              "2            27      105  ...  Springfield to KC Via Columbia Route 2  2016-05-27-22\n",
              "3            11       74  ...           Saint Louis to Memphis Route2  2016-05-27-22\n",
              "4            22       87  ...           Saint Louis to Chicago Route2  2016-05-27-22\n",
              "5            22       87  ...           Saint Louis to Chicago Route2  2016-05-27-22\n",
              "6            23       68  ...           Joplin to Kansas City Route 2  2016-05-27-22\n",
              "7            11       74  ...           Saint Louis to Memphis Route2  2016-05-27-22\n",
              "8            20       41  ...           Des Moines to Chicago Route 2  2016-05-27-22\n",
              "9            32       42  ...          Peoria to Ceder Rapids Route 2  2016-05-27-22\n",
              "10           27      105  ...  Springfield to KC Via Columbia Route 2  2016-05-27-22\n",
              "11           17       15  ...          Springfield to KC Via Columbia  2016-05-27-22\n",
              "12           14       25  ...           Joplin to Kansas City Route 2  2016-05-27-22\n",
              "13           28       39  ...   Springfield to KC Via Hanibal Route 2  2016-05-27-22\n",
              "14           15       51  ...                   Joplin to Kansas City  2016-05-27-22\n",
              "15           16       12  ...                  Saint Louis to Memphis  2016-05-27-22\n",
              "16           31       18  ...          Memphis to Little Rock Route 2  2016-05-27-22\n",
              "17           25       96  ...                  Memphis to Little Rock  2016-05-27-22\n",
              "18           14       25  ...           Joplin to Kansas City Route 2  2016-05-27-22\n",
              "19           22       87  ...           Saint Louis to Chicago Route2  2016-05-27-22\n",
              "20           32       42  ...          Peoria to Ceder Rapids Route 2  2016-05-27-22\n",
              "21           24       97  ...          Peoria to Ceder Rapids Route 2  2016-05-27-22\n",
              "22           25       96  ...                  Memphis to Little Rock  2016-05-27-22\n",
              "23           29       66  ...          Wichita to Little Rock Route 2  2016-05-27-22\n",
              "24           22       87  ...           Saint Louis to Chicago Route2  2016-05-27-22\n",
              "25           18       16  ...           Springfield to KC Via Hanibal  2016-05-27-22\n",
              "26           19       26  ...              Wichita to Little Rock.kml  2016-05-27-22\n",
              "27           26       57  ...             Saint Louis to Tulsa Route2  2016-05-27-22\n",
              "28           16       12  ...                  Saint Louis to Memphis  2016-05-27-22\n",
              "29           21      109  ...          Memphis to Little Rock Route 2  2016-05-27-22\n",
              "...         ...      ...  ...                                     ...            ...\n",
              "17045        26       17  ...             Saint Louis to Tulsa Route2  2016-06-02-20\n",
              "17046        14       18  ...                  Peoria to Ceder Rapids  2016-06-02-20\n",
              "17047        21      105  ...          Memphis to Little Rock Route 2  2016-06-02-20\n",
              "17048        31       48  ...           Des Moines to Chicago Route 2  2016-06-02-20\n",
              "17049        27       81  ...  Springfield to KC Via Columbia Route 2  2016-06-02-20\n",
              "17050        26       17  ...             Saint Louis to Tulsa Route2  2016-06-02-20\n",
              "17051        15       32  ...                  Memphis to Little Rock  2016-06-02-20\n",
              "17052        24       68  ...               Des Moines to Chicago.kml  2016-06-02-20\n",
              "17053        22       24  ...          Peoria to Ceder Rapids Route 2  2016-06-02-20\n",
              "17054        27       81  ...  Springfield to KC Via Columbia Route 2  2016-06-02-20\n",
              "17055        14       18  ...                  Peoria to Ceder Rapids  2016-06-02-20\n",
              "17056        20       79  ...          Peoria to Ceder Rapids Route 2  2016-06-02-20\n",
              "17057        17       92  ...          Springfield to KC Via Columbia  2016-06-02-20\n",
              "17058        21      105  ...          Memphis to Little Rock Route 2  2016-06-02-20\n",
              "17059        14       18  ...                  Peoria to Ceder Rapids  2016-06-02-20\n",
              "17060        23       66  ...                  Saint Louis to Memphis  2016-06-02-20\n",
              "17061        12       74  ...                   Joplin to Kansas City  2016-06-02-20\n",
              "17062        27       81  ...  Springfield to KC Via Columbia Route 2  2016-06-02-20\n",
              "17063        13       12  ...                  Saint Louis to Chicago  2016-06-02-20\n",
              "17064        24       68  ...               Des Moines to Chicago.kml  2016-06-02-20\n",
              "17065        21      105  ...          Memphis to Little Rock Route 2  2016-06-02-20\n",
              "17066        11       27  ...           Saint Louis to Chicago Route2  2016-06-02-20\n",
              "17067        30       95  ...           Saint Louis to Chicago Route2  2016-06-02-20\n",
              "17068        31       48  ...           Des Moines to Chicago Route 2  2016-06-02-20\n",
              "17069        22       24  ...          Peoria to Ceder Rapids Route 2  2016-06-02-20\n",
              "17070        11       27  ...           Saint Louis to Chicago Route2  2016-06-02-20\n",
              "17071        16       46  ...           Joplin to Kansas City Route 2  2016-06-02-20\n",
              "17072        18       49  ...           Springfield to KC Via Hanibal  2016-06-02-20\n",
              "17073        10       39  ...                    Saint Louis to Tulsa  2016-06-02-20\n",
              "17074        19      100  ...              Wichita to Little Rock.kml  2016-06-02-20\n",
              "\n",
              "[17075 rows x 12 columns]"
            ]
          },
          "metadata": {
            "tags": []
          },
          "execution_count": 52
        }
      ]
    },
    {
      "cell_type": "markdown",
      "metadata": {
        "id": "c4O-dX1qSLYn",
        "colab_type": "text"
      },
      "source": [
        "Se verifican las propiedades de la tabla después de la carga de datos."
      ]
    },
    {
      "cell_type": "code",
      "metadata": {
        "id": "PSdhEgVxSIQe",
        "colab_type": "code",
        "outputId": "ae4f41e2-db3b-48c7-b160-9a159a7036c3",
        "colab": {
          "base_uri": "https://localhost:8080/",
          "height": 34
        }
      },
      "source": [
        "len(truck_events)"
      ],
      "execution_count": 47,
      "outputs": [
        {
          "output_type": "execute_result",
          "data": {
            "text/plain": [
              "17075"
            ]
          },
          "metadata": {
            "tags": []
          },
          "execution_count": 47
        }
      ]
    },
    {
      "cell_type": "markdown",
      "metadata": {
        "id": "6YGLOrlJSSvV",
        "colab_type": "text"
      },
      "source": [
        "CON ESTE CODIGO CONSULTO LOS TITULOS DE LAS COLUMNAS\n"
      ]
    },
    {
      "cell_type": "code",
      "metadata": {
        "id": "rd-OdsHISOth",
        "colab_type": "code",
        "outputId": "f80c9933-f89a-4b04-8dca-c07b26348ec8",
        "colab": {
          "base_uri": "https://localhost:8080/",
          "height": 85
        }
      },
      "source": [
        "truck_events.columns"
      ],
      "execution_count": 48,
      "outputs": [
        {
          "output_type": "execute_result",
          "data": {
            "text/plain": [
              "Index(['driverId', 'truckId', 'eventTime', 'eventType', 'longitude',\n",
              "       'latitude', 'eventKey', 'CorrelationId', 'driverName', 'routeId',\n",
              "       'routeName', 'eventDate'],\n",
              "      dtype='object')"
            ]
          },
          "metadata": {
            "tags": []
          },
          "execution_count": 48
        }
      ]
    },
    {
      "cell_type": "markdown",
      "metadata": {
        "id": "os2tTrzASZ-L",
        "colab_type": "text"
      },
      "source": [
        "CONSULTO LA INFORMACION PRINCIPAL DE LA TABLA\n"
      ]
    },
    {
      "cell_type": "code",
      "metadata": {
        "id": "0gbA3C3VSgYt",
        "colab_type": "code",
        "outputId": "3b55c912-4f0e-4c38-9674-c2b0bb1fda43",
        "colab": {
          "base_uri": "https://localhost:8080/",
          "height": 204
        }
      },
      "source": [
        "truck_events.describe()"
      ],
      "execution_count": 49,
      "outputs": [
        {
          "output_type": "execute_result",
          "data": {
            "text/plain": [
              "           driverId       truckId  ...  CorrelationId       routeId\n",
              "count  17075.000000  17075.000000  ...   1.707500e+04  1.707500e+04\n",
              "mean      21.043104     55.424480  ...   5.373716e+17  1.034766e+09\n",
              "std        6.612549     28.936049  ...   1.295419e+18  6.233880e+08\n",
              "min       10.000000     10.000000  ...   1.000000e+03  2.492948e+07\n",
              "25%       15.000000     27.000000  ...   1.000000e+03  3.711828e+08\n",
              "50%       21.000000     55.000000  ...   1.000000e+03  1.198243e+09\n",
              "75%       27.000000     81.000000  ...   1.000000e+03  1.565885e+09\n",
              "max       32.000000    109.000000  ...   3.660000e+18  1.962262e+09\n",
              "\n",
              "[8 rows x 6 columns]"
            ]
          },
          "metadata": {
            "tags": []
          },
          "execution_count": 49
        }
      ]
    },
    {
      "cell_type": "markdown",
      "metadata": {
        "id": "j2jaVcKWSzvA",
        "colab_type": "text"
      },
      "source": [
        "# Visualización de datos"
      ]
    },
    {
      "cell_type": "markdown",
      "metadata": {
        "id": "9dWLhGD1S62i",
        "colab_type": "text"
      },
      "source": [
        "Para visualizar la cabecera de los archivos"
      ]
    },
    {
      "cell_type": "code",
      "metadata": {
        "id": "aGQ4k3LFSzdz",
        "colab_type": "code",
        "outputId": "97b159f8-6822-4776-fe77-7f781aa19640",
        "colab": {
          "base_uri": "https://localhost:8080/",
          "height": 258
        }
      },
      "source": [
        "## para visualizar los primeros 10 filas\n",
        "truck_events.head(10)"
      ],
      "execution_count": 50,
      "outputs": [
        {
          "output_type": "execute_result",
          "data": {
            "text/plain": [
              "   driverId  truckId  ...                               routeName      eventDate\n",
              "0        14       25  ...           Joplin to Kansas City Route 2  2016-05-27-22\n",
              "1        18       16  ...           Springfield to KC Via Hanibal  2016-05-27-22\n",
              "2        27      105  ...  Springfield to KC Via Columbia Route 2  2016-05-27-22\n",
              "3        11       74  ...           Saint Louis to Memphis Route2  2016-05-27-22\n",
              "4        22       87  ...           Saint Louis to Chicago Route2  2016-05-27-22\n",
              "5        22       87  ...           Saint Louis to Chicago Route2  2016-05-27-22\n",
              "6        23       68  ...           Joplin to Kansas City Route 2  2016-05-27-22\n",
              "7        11       74  ...           Saint Louis to Memphis Route2  2016-05-27-22\n",
              "8        20       41  ...           Des Moines to Chicago Route 2  2016-05-27-22\n",
              "9        32       42  ...          Peoria to Ceder Rapids Route 2  2016-05-27-22\n",
              "\n",
              "[10 rows x 12 columns]"
            ]
          },
          "metadata": {
            "tags": []
          },
          "execution_count": 50
        }
      ]
    },
    {
      "cell_type": "code",
      "metadata": {
        "id": "ma3NDiFiTJvt",
        "colab_type": "code",
        "outputId": "389aa428-2eeb-4624-f010-c2d4597c384b",
        "colab": {
          "base_uri": "https://localhost:8080/",
          "height": 238
        }
      },
      "source": [
        "#para visualizar las ultimas 10 filas\n",
        "truck_events.tail(10)"
      ],
      "execution_count": 0,
      "outputs": [
        {
          "output_type": "execute_result",
          "data": {
            "text/plain": [
              "       driverId  truckId  ...                       routeName      eventDate\n",
              "17065        21      105  ...  Memphis to Little Rock Route 2  2016-06-02-20\n",
              "17066        11       27  ...   Saint Louis to Chicago Route2  2016-06-02-20\n",
              "17067        30       95  ...   Saint Louis to Chicago Route2  2016-06-02-20\n",
              "17068        31       48  ...   Des Moines to Chicago Route 2  2016-06-02-20\n",
              "17069        22       24  ...  Peoria to Ceder Rapids Route 2  2016-06-02-20\n",
              "17070        11       27  ...   Saint Louis to Chicago Route2  2016-06-02-20\n",
              "17071        16       46  ...   Joplin to Kansas City Route 2  2016-06-02-20\n",
              "17072        18       49  ...   Springfield to KC Via Hanibal  2016-06-02-20\n",
              "17073        10       39  ...            Saint Louis to Tulsa  2016-06-02-20\n",
              "17074        19      100  ...      Wichita to Little Rock.kml  2016-06-02-20\n",
              "\n",
              "[10 rows x 12 columns]"
            ]
          },
          "metadata": {
            "tags": []
          },
          "execution_count": 27
        }
      ]
    },
    {
      "cell_type": "code",
      "metadata": {
        "id": "zRsBXxToTuRI",
        "colab_type": "code",
        "outputId": "c2530a5f-70f0-4298-821c-15dae1f50d9b",
        "colab": {
          "base_uri": "https://localhost:8080/",
          "height": 238
        }
      },
      "source": [
        "\n",
        "truck_events_subset = truck_events[0:10]\n",
        "truck_events_subset"
      ],
      "execution_count": 0,
      "outputs": [
        {
          "output_type": "execute_result",
          "data": {
            "text/plain": [
              "   driverId  truckId  ...                               routeName      eventDate\n",
              "0        14       25  ...           Joplin to Kansas City Route 2  2016-05-27-22\n",
              "1        18       16  ...           Springfield to KC Via Hanibal  2016-05-27-22\n",
              "2        27      105  ...  Springfield to KC Via Columbia Route 2  2016-05-27-22\n",
              "3        11       74  ...           Saint Louis to Memphis Route2  2016-05-27-22\n",
              "4        22       87  ...           Saint Louis to Chicago Route2  2016-05-27-22\n",
              "5        22       87  ...           Saint Louis to Chicago Route2  2016-05-27-22\n",
              "6        23       68  ...           Joplin to Kansas City Route 2  2016-05-27-22\n",
              "7        11       74  ...           Saint Louis to Memphis Route2  2016-05-27-22\n",
              "8        20       41  ...           Des Moines to Chicago Route 2  2016-05-27-22\n",
              "9        32       42  ...          Peoria to Ceder Rapids Route 2  2016-05-27-22\n",
              "\n",
              "[10 rows x 12 columns]"
            ]
          },
          "metadata": {
            "tags": []
          },
          "execution_count": 28
        }
      ]
    },
    {
      "cell_type": "markdown",
      "metadata": {
        "id": "V_3bxfm6UF01",
        "colab_type": "text"
      },
      "source": [
        "# Obtención de un subconjunto de columnas\n",
        "\n",
        "En el siguiente código se obtienen algunas columnas de la tabla truck_events_subset para ser almacenadas en una tabla diferente."
      ]
    },
    {
      "cell_type": "code",
      "metadata": {
        "id": "lT4R8p6xUJW2",
        "colab_type": "code",
        "outputId": "aba413b6-ebf7-48b3-f24e-e09e7b5b71e7",
        "colab": {
          "base_uri": "https://localhost:8080/",
          "height": 204
        }
      },
      "source": [
        "specific_columns = truck_events_subset[['driverId', 'eventTime', 'eventType']]\n",
        "specific_columns"
      ],
      "execution_count": 0,
      "outputs": [
        {
          "output_type": "execute_result",
          "data": {
            "text/plain": [
              "   driverId eventTime eventType\n",
              "0        14   59:21.4    Normal\n",
              "1        18   59:21.7    Normal\n",
              "2        27   59:21.7    Normal\n",
              "3        11   59:21.7    Normal\n",
              "4        22   59:21.7    Normal\n",
              "5        22   59:22.3    Normal\n",
              "6        23   59:22.4    Normal\n",
              "7        11   59:22.5    Normal\n",
              "8        20   59:22.5    Normal\n",
              "9        32   59:22.5    Normal"
            ]
          },
          "metadata": {
            "tags": []
          },
          "execution_count": 29
        }
      ]
    },
    {
      "cell_type": "markdown",
      "metadata": {
        "id": "cxRqiZTpUTUX",
        "colab_type": "text"
      },
      "source": [
        "Obtención de un subconjunto de filas y columnas\n",
        "# Nueva sección\n",
        "\n",
        "\n",
        "1.   con .loc saco las filas y las columnas\n",
        "\n",
        "el orden siempre es primero filas y despues columnas\n",
        "\n",
        "\n"
      ]
    },
    {
      "cell_type": "code",
      "metadata": {
        "id": "NQaMMuB7UWOT",
        "colab_type": "code",
        "outputId": "bcc274e8-3ad9-40f8-bbaa-48025d85b566",
        "colab": {
          "base_uri": "https://localhost:8080/",
          "height": 221
        }
      },
      "source": [
        "new_sub_set = truck_events.loc[0:10, ['driverId', 'eventTime', 'eventType']]\n",
        "new_sub_set"
      ],
      "execution_count": 0,
      "outputs": [
        {
          "output_type": "execute_result",
          "data": {
            "text/plain": [
              "    driverId eventTime eventType\n",
              "0         14   59:21.4    Normal\n",
              "1         18   59:21.7    Normal\n",
              "2         27   59:21.7    Normal\n",
              "3         11   59:21.7    Normal\n",
              "4         22   59:21.7    Normal\n",
              "5         22   59:22.3    Normal\n",
              "6         23   59:22.4    Normal\n",
              "7         11   59:22.5    Normal\n",
              "8         20   59:22.5    Normal\n",
              "9         32   59:22.5    Normal\n",
              "10        27   59:22.6    Normal"
            ]
          },
          "metadata": {
            "tags": []
          },
          "execution_count": 30
        }
      ]
    },
    {
      "cell_type": "markdown",
      "metadata": {
        "id": "y6gjNgHlU_jM",
        "colab_type": "text"
      },
      "source": [
        "# Obtención de un campo de un registro en particular"
      ]
    },
    {
      "cell_type": "code",
      "metadata": {
        "id": "yfDdTaa_VHIA",
        "colab_type": "code",
        "outputId": "1a7c05fb-d77d-472d-9d7e-a5b6bab9ac2f",
        "colab": {
          "base_uri": "https://localhost:8080/",
          "height": 238
        }
      },
      "source": [
        "truck_events.iloc[1]"
      ],
      "execution_count": 0,
      "outputs": [
        {
          "output_type": "execute_result",
          "data": {
            "text/plain": [
              "driverId                                    18\n",
              "truckId                                     16\n",
              "eventTime                              59:21.7\n",
              "eventType                               Normal\n",
              "longitude                               -89.66\n",
              "latitude                                 39.78\n",
              "eventKey             18|16|9223370572464814089\n",
              "CorrelationId                         3.66e+18\n",
              "driverName                           Grant Liu\n",
              "routeId                             1565885487\n",
              "routeName        Springfield to KC Via Hanibal\n",
              "eventDate                        2016-05-27-22\n",
              "Name: 1, dtype: object"
            ]
          },
          "metadata": {
            "tags": []
          },
          "execution_count": 31
        }
      ]
    },
    {
      "cell_type": "code",
      "metadata": {
        "id": "jAmeAzdDVL-x",
        "colab_type": "code",
        "outputId": "f7cf5170-19b7-4803-c786-98213873c3d9",
        "colab": {
          "base_uri": "https://localhost:8080/",
          "height": 204
        }
      },
      "source": [
        "new_sub_set2 = truck_events.iloc[0:10, [0,1,2]]\n",
        "new_sub_set2\n"
      ],
      "execution_count": 43,
      "outputs": [
        {
          "output_type": "execute_result",
          "data": {
            "text/plain": [
              "   driverId  truckId eventTime\n",
              "0        14       25   59:21.4\n",
              "1        18       16   59:21.7\n",
              "2        27      105   59:21.7\n",
              "3        11       74   59:21.7\n",
              "4        22       87   59:21.7\n",
              "5        22       87   59:22.3\n",
              "6        23       68   59:22.4\n",
              "7        11       74   59:22.5\n",
              "8        20       41   59:22.5\n",
              "9        32       42   59:22.5"
            ]
          },
          "metadata": {
            "tags": []
          },
          "execution_count": 43
        }
      ]
    },
    {
      "cell_type": "code",
      "metadata": {
        "id": "-Y3kX_pVVh8x",
        "colab_type": "code",
        "outputId": "bfe96fa9-59d7-4127-b4bf-7430d867b40d",
        "colab": {
          "base_uri": "https://localhost:8080/",
          "height": 34
        }
      },
      "source": [
        "truck_events.iloc[1].eventKey"
      ],
      "execution_count": 0,
      "outputs": [
        {
          "output_type": "execute_result",
          "data": {
            "text/plain": [
              "'18|16|9223370572464814089'"
            ]
          },
          "metadata": {
            "tags": []
          },
          "execution_count": 36
        }
      ]
    },
    {
      "cell_type": "code",
      "metadata": {
        "id": "Zwr-D1uHVlJo",
        "colab_type": "code",
        "outputId": "72349c4f-dce1-49d9-ae96-a7243faa8f68",
        "colab": {
          "base_uri": "https://localhost:8080/",
          "height": 34
        }
      },
      "source": [
        "truck_events.iloc[1]['eventKey']"
      ],
      "execution_count": 0,
      "outputs": [
        {
          "output_type": "execute_result",
          "data": {
            "text/plain": [
              "'18|16|9223370572464814089'"
            ]
          },
          "metadata": {
            "tags": []
          },
          "execution_count": 37
        }
      ]
    },
    {
      "cell_type": "markdown",
      "metadata": {
        "id": "ga6A0kW2VoiS",
        "colab_type": "text"
      },
      "source": [
        "# Escritura de la tabla en el disco\n",
        "Seguidamente, se procede a escribir el contenido de la tabla en el directorio tmp/ de la carpeta actual."
      ]
    },
    {
      "cell_type": "code",
      "metadata": {
        "id": "deEMRDZuVstx",
        "colab_type": "code",
        "colab": {}
      },
      "source": [
        "\n",
        "!mkdir -p tmp"
      ],
      "execution_count": 0,
      "outputs": []
    },
    {
      "cell_type": "code",
      "metadata": {
        "id": "GYlYFUZLVyGY",
        "colab_type": "code",
        "colab": {}
      },
      "source": [
        "specific_columns.to_csv(\n",
        "    'tmp/specific-columns.csv',\n",
        "    sep = ',',\n",
        "    header = True,\n",
        "    index = False)"
      ],
      "execution_count": 0,
      "outputs": []
    },
    {
      "cell_type": "code",
      "metadata": {
        "id": "3aIt9N0RV2OA",
        "colab_type": "code",
        "outputId": "0a49ddec-95a1-413a-c049-36529a7b6fba",
        "colab": {
          "base_uri": "https://localhost:8080/",
          "height": 34
        }
      },
      "source": [
        "##\n",
        "## Se visualiza el contenido del directorio\n",
        "##\n",
        "!ls tmp/"
      ],
      "execution_count": 0,
      "outputs": [
        {
          "output_type": "stream",
          "text": [
            "specific-columns.csv\n"
          ],
          "name": "stdout"
        }
      ]
    },
    {
      "cell_type": "code",
      "metadata": {
        "id": "1qHR7OIFXHEZ",
        "colab_type": "code",
        "colab": {
          "base_uri": "https://localhost:8080/",
          "height": 204
        },
        "outputId": "0f19d565-7eab-49b1-c841-d0f86cc77230"
      },
      "source": [
        "\n",
        "##\n",
        "## Se visualiza la parte final del archivo\n",
        "##\n",
        "!cat tmp/specific-columns.csv"
      ],
      "execution_count": 53,
      "outputs": [
        {
          "output_type": "stream",
          "text": [
            "driverId,eventTime,eventType\n",
            "14,59:21.4,Normal\n",
            "18,59:21.7,Normal\n",
            "27,59:21.7,Normal\n",
            "11,59:21.7,Normal\n",
            "22,59:21.7,Normal\n",
            "22,59:22.3,Normal\n",
            "23,59:22.4,Normal\n",
            "11,59:22.5,Normal\n",
            "20,59:22.5,Normal\n",
            "32,59:22.5,Normal\n"
          ],
          "name": "stdout"
        }
      ]
    },
    {
      "cell_type": "code",
      "metadata": {
        "id": "-B-DTrSTXVbb",
        "colab_type": "code",
        "colab": {}
      },
      "source": [
        "Borrar todo\n",
        "\n",
        "###!rm -rf tmp/"
      ],
      "execution_count": 0,
      "outputs": []
    },
    {
      "cell_type": "markdown",
      "metadata": {
        "id": "QHjTFI_dXGFo",
        "colab_type": "text"
      },
      "source": [
        ""
      ]
    }
  ]
}