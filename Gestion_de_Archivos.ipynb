{
  "nbformat": 4,
  "nbformat_minor": 0,
  "metadata": {
    "colab": {
      "name": "Gestion de Archivos.ipynb",
      "provenance": [],
      "include_colab_link": true
    },
    "kernelspec": {
      "name": "python3",
      "display_name": "Python 3"
    }
  },
  "cells": [
    {
      "cell_type": "markdown",
      "metadata": {
        "id": "view-in-github",
        "colab_type": "text"
      },
      "source": [
        "<a href=\"https://colab.research.google.com/github/sagudelom06/Clase-1-Ciencia-de-los-datos/blob/master/Gestion_de_Archivos.ipynb\" target=\"_parent\"><img src=\"https://colab.research.google.com/assets/colab-badge.svg\" alt=\"Open In Colab\"/></a>"
      ]
    },
    {
      "cell_type": "code",
      "metadata": {
        "id": "h68oTRO6AEHM",
        "colab_type": "code",
        "colab": {
          "base_uri": "https://localhost:8080/",
          "height": 1000
        },
        "outputId": "9a1923fe-8cee-43a6-bc48-ffebfa7cec3e"
      },
      "source": [
        "!man ls"
      ],
      "execution_count": 3,
      "outputs": [
        {
          "output_type": "stream",
          "text": [
            "LS(1POSIX)                 POSIX Programmer's Manual                LS(1POSIX)\n",
            "\n",
            "P\bPR\bRO\bOL\bLO\bOG\bG\n",
            "       This  manual  page is part of the POSIX Programmer's Manual.  The Linux\n",
            "       implementation of this interface may differ (consult the  corresponding\n",
            "       Linux  manual page for details of Linux behavior), or the interface may\n",
            "       not be implemented on Linux.\n",
            "\n",
            "N\bNA\bAM\bME\bE\n",
            "       ls — list directory contents\n",
            "\n",
            "S\bSY\bYN\bNO\bOP\bPS\bSI\bIS\bS\n",
            "       ls [\b[−ikqrs]\b] [\b[−glno]\b] [\b[−A|−a]\b] [\b[−C|−m|−x|−1]\b] \\\n",
            "           [\b[−F|−p]\b] [\b[−H|−L]\b] [\b[−R|−d]\b] [\b[−S|−f|−t]\b] [\b[−c|−u]\b] [\b[_\bf_\bi_\bl_\be...]\b]\n",
            "\n",
            "D\bDE\bES\bSC\bCR\bRI\bIP\bPT\bTI\bIO\bON\bN\n",
            "       For each operand that names a file of a type other  than  directory  or\n",
            "       symbolic  link  to  a directory, _\bl_\bs shall write the name of the file as\n",
            "       well as any requested, associated information. For  each  operand  that\n",
            "       names  a file of type directory, _\bl_\bs shall write the names of files con‐\n",
            "       tained within the directory as well as any requested, associated infor‐\n",
            "       mation.  Filenames  beginning with a <period> ('\b'.\b.'\b')  and any associated\n",
            "       information shall not be written out unless explicitly referenced,  the\n",
            "       −\b−A\bA  or  −\b−a\ba  option  is supplied, or an implementation-defined condition\n",
            "       causes them to be written. If one or more of the −\b−d\bd, −\b−F\bF, or −\b−l\bl  options\n",
            "       are  specified,  and neither the −\b−H\bH nor the −\b−L\bL option is specified, for\n",
            "       each operand that names a file of type symbolic link to a directory, _\bl_\bs\n",
            "       shall  write  the name of the file as well as any requested, associated\n",
            "       information. If none of the −\b−d\bd, −\b−F\bF, or −\b−l\bl options are specified, or the\n",
            "       −\b−H\bH  or  −\b−L\bL options are specified, for each operand that names a file of\n",
            "       type symbolic link to a directory, _\bl_\bs shall write the  names  of  files\n",
            "       contained  within  the  directory  as well as any requested, associated\n",
            "       information. In each case where the names of files contained  within  a\n",
            "       directory  are  written,  if  the directory contains any symbolic links\n",
            "       then _\bl_\bs shall evaluate the file information and file type to  be  those\n",
            "       of the symbolic link itself, unless the −\b−L\bL option is specified.\n",
            "\n",
            "       If no operands are specified, _\bl_\bs shall behave as if a single operand of\n",
            "       dot ('\b'.\b.'\b')  had been specified. If more than one operand  is  specified,\n",
            "       _\bl_\bs  shall  write  non-directory operands first; it shall sort directory\n",
            "       and  non-directory  operands  separately  according  to  the  collating\n",
            "       sequence in the current locale.\n",
            "\n",
            "       The  _\bl_\bs utility shall detect infinite loops; that is, entering a previ‐\n",
            "       ously visited directory that is an ancestor of the  last  file  encoun‐\n",
            "       tered.   When  it detects an infinite loop, _\bl_\bs shall write a diagnostic\n",
            "       message to standard error and shall either recover its position in  the\n",
            "       hierarchy or terminate.\n",
            "\n",
            "O\bOP\bPT\bTI\bIO\bON\bNS\bS\n",
            "       The  _\bl_\bs  utility  shall  conform  to  the  Base  Definitions  volume of\n",
            "       POSIX.1‐2008, _\bS_\be_\bc_\bt_\bi_\bo_\bn _\b1_\b2_\b._\b2, _\bU_\bt_\bi_\bl_\bi_\bt_\by _\bS_\by_\bn_\bt_\ba_\bx _\bG_\bu_\bi_\bd_\be_\bl_\bi_\bn_\be_\bs.\n",
            "\n",
            "       The following options shall be supported:\n",
            "\n",
            "       −\b−A\bA        Write out all directory entries, including those whose  names\n",
            "                 begin  with  a  <period> ('\b'.\b.'\b')  but excluding the entries dot\n",
            "                 and dot-dot (if they exist).\n",
            "\n",
            "       −\b−C\bC        Write multi-text-column output with entries sorted  down  the\n",
            "                 columns,  according  to the collating sequence. The number of\n",
            "                 text columns and the column separator characters are unspeci‐\n",
            "                 fied,  but  should  be  adapted  to  the nature of the output\n",
            "                 device. This option disables long format output.\n",
            "\n",
            "       −\b−F\bF        Do not follow symbolic links named as operands unless the  −\b−H\bH\n",
            "                 or  −\b−L\bL  options  are specified. Write a <slash> ('\b'/\b/'\b') immedi‐\n",
            "                 ately after each pathname that is a directory, an  <asterisk>\n",
            "                 ('\b'*\b*'\b')  after each that is executable, a <vertical-line> ('\b'|\b|'\b')\n",
            "                 after each that is a FIFO, and an at-sign  ('\b'@\b@'\b')  after  each\n",
            "                 that  is a symbolic link. For other file types, other symbols\n",
            "                 may be written.\n",
            "\n",
            "       −\b−H\bH        Evaluate the file information  and  file  type  for  symbolic\n",
            "                 links  specified  on the command line to be those of the file\n",
            "                 referenced by the link, and not the link itself; however,  _\bl_\bs\n",
            "                 shall write the name of the link itself and not the file ref‐\n",
            "                 erenced by the link.\n",
            "\n",
            "       −\b−L\bL        Evaluate the file information and file type for all  symbolic\n",
            "                 links  (whether named on the command line or encountered in a\n",
            "                 file hierarchy) to be those of the  file  referenced  by  the\n",
            "                 link,  and  not  the link itself; however, _\bl_\bs shall write the\n",
            "                 name of the link itself and not the file  referenced  by  the\n",
            "                 link. When −\b−L\bL is used with −\b−l\bl, write the contents of symbolic\n",
            "                 links in the long format (see the STDOUT section).\n",
            "\n",
            "       −\b−R\bR        Recursively list subdirectories encountered. When a  symbolic\n",
            "                 link  to  a directory is encountered, the directory shall not\n",
            "                 be recursively listed unless the −\b−L\bL option is specified.  The\n",
            "                 use of −\b−R\bR with −\b−d\bd or −\b−f\bf produces unspecified results.\n",
            "\n",
            "       −\b−S\bS        Sort  with  the  primary  key  being file size (in decreasing\n",
            "                 order) and the secondary key being filename in the  collating\n",
            "                 sequence (in increasing order).\n",
            "\n",
            "       −\b−a\ba        Write  out all directory entries, including those whose names\n",
            "                 begin with a <period> ('\b'.\b.'\b').\n",
            "\n",
            "       −\b−c\bc        Use time of last modification of the file status  information\n",
            "                 (see   the   Base   Definitions   volume   of   POSIX.1‐2008,\n",
            "                 <\b<s\bsy\bys\bs_\b_s\bst\bta\bat\bt.\b.h\bh>\b>) instead of last modification of the file itself\n",
            "                 for sorting (−\b−t\bt) or writing (−\b−l\bl).\n",
            "\n",
            "       −\b−d\bd        Do  not follow symbolic links named as operands unless the −\b−H\bH\n",
            "                 or −\b−L\bL options are specified. Do not treat directories differ‐\n",
            "                 ently  than other types of files. The use of −\b−d\bd with −\b−R\bR or −\b−f\bf\n",
            "                 produces unspecified results.\n",
            "\n",
            "       −\b−f\bf        List the entries in directory  operands  in  the  order  they\n",
            "                 appear in the directory. The behavior for non-directory oper‐\n",
            "                 ands is unspecified. This option shall turn on −\b−a\ba.   When  −\b−f\bf\n",
            "                 is  specified,  any occurrences of the −\b−r\br, −\b−S\bS, and −\b−t\bt options\n",
            "                 shall be ignored and any occurrences of the −\b−A\bA, −\b−g\bg,  −\b−l\bl,  −\b−n\bn,\n",
            "                 −\b−o\bo,  and  −\b−s\bs options may be ignored. The use of −\b−f\bf with −\b−R\bR or\n",
            "                 −\b−d\bd produces unspecified results.\n",
            "\n",
            "       −\b−g\bg        Turn on the −\b−l\bl (ell) option, but disable writing  the  file's\n",
            "                 owner name or number.  Disable the −\b−C\bC, −\b−m\bm, and −\b−x\bx options.\n",
            "\n",
            "       −\b−i\bi        For  each  file,  write  the  file's  file serial number (see\n",
            "                 _\bs_\bt_\ba_\bt() in the System Interfaces volume of POSIX.1‐2008).\n",
            "\n",
            "       −\b−k\bk        Set the block size for the −\b−s\bs option  and  the  per-directory\n",
            "                 block  count  written  for the −\b−l\bl, −\b−n\bn, −\b−s\bs, −\b−g\bg, and −\b−o\bo options\n",
            "                 (see the STDOUT section) to 1024 bytes.\n",
            "\n",
            "       −\b−l\bl        (The letter ell.) Do not follow symbolic links named as oper‐\n",
            "                 ands  unless the −\b−H\bH or −\b−L\bL options are specified. Write out in\n",
            "                 long format (see the STDOUT section). Disable the −\b−C\bC, −\b−m\bm, and\n",
            "                 −\b−x\bx options.\n",
            "\n",
            "       −\b−m\bm        Stream  output  format; list pathnames across the page, sepa‐\n",
            "                 rated by a <comma> character followed by a <space> character.\n",
            "                 Use  a  <newline>  character as the list terminator and after\n",
            "                 the separator sequence when there is not room on a  line  for\n",
            "                 the next list entry. This option disables long format output.\n",
            "\n",
            "       −\b−n\bn        Turn  on  the  −\b−l\bl  (ell)  option, but when writing the file's\n",
            "                 owner or group, write the file's numeric UID  or  GID  rather\n",
            "                 than  the  user  or group name, respectively. Disable the −\b−C\bC,\n",
            "                 −\b−m\bm, and −\b−x\bx options.\n",
            "\n",
            "       −\b−o\bo        Turn on the −\b−l\bl (ell) option, but disable writing  the  file's\n",
            "                 group name or number.  Disable the −\b−C\bC, −\b−m\bm, and −\b−x\bx options.\n",
            "\n",
            "       −\b−p\bp        Write  a  <slash> ('\b'/\b/'\b') after each filename if that file is a\n",
            "                 directory.\n",
            "\n",
            "       −\b−q\bq        Force each instance of non-printable filename characters  and\n",
            "                 <tab>  characters  to be written as the <question-mark> ('\b'?\b?'\b')\n",
            "                 character. Implementations may provide this option by default\n",
            "                 if the output is to a terminal device.\n",
            "\n",
            "       −\b−r\br        Reverse  the  order  of  the  sort  to  get reverse collating\n",
            "                 sequence oldest first, or smallest file size first  depending\n",
            "                 on the other options given.\n",
            "\n",
            "       −\b−s\bs        Indicate  the  total number of file system blocks consumed by\n",
            "                 each file displayed. If the −\b−k\bk option is also specified,  the\n",
            "                 block  size shall be 1024 bytes; otherwise, the block size is\n",
            "                 implementation-defined.\n",
            "\n",
            "       −\b−t\bt        Sort with the primary key being time modified (most  recently\n",
            "                 modified  first)  and the secondary key being filename in the\n",
            "                 collating sequence.  For a symbolic link, the  time  used  as\n",
            "                 the  sort  key is that of the symbolic link itself, unless _\bl_\bs\n",
            "                 is evaluating its file information to be  that  of  the  file\n",
            "                 referenced by the link (see the −\b−H\bH and −\b−L\bL options).\n",
            "\n",
            "       −\b−u\bu        Use  time  of last access (see the Base Definitions volume of\n",
            "                 POSIX.1‐2008, <\b<s\bsy\bys\bs_\b_s\bst\bta\bat\bt.\b.h\bh>\b>) instead of last  modification  of\n",
            "                 the file for sorting (−\b−t\bt) or writing (−\b−l\bl).\n",
            "\n",
            "       −\b−x\bx        The  same  as −\b−C\bC, except that the multi-text-column output is\n",
            "                 produced with entries sorted across, rather  than  down,  the\n",
            "                 columns. This option disables long format output.\n",
            "\n",
            "       −\b−1\b1        (The  numeric  digit  one.)  Force output to be one entry per\n",
            "                 line.  This option does not disable long format output. (Long\n",
            "                 format  output  is  enabled  by −\b−g\bg, −\b−l\bl (ell), −\b−n\bn, and −\b−o\bo; and\n",
            "                 disabled by −\b−C\bC, −\b−m\bm, and −\b−x\bx.)\n",
            "\n",
            "       If an option that enables long format output (−\b−g\bg, −\b−l\bl (ell), −\b−n\bn, and  −\b−o\bo\n",
            "       is  given  with an option that disables long format output (−\b−C\bC, −\b−m\bm, and\n",
            "       −\b−x\bx), this shall not be considered an error. The last of  these  options\n",
            "       specified shall determine whether long format output is written.\n",
            "\n",
            "       If  −\b−R\bR,  −\b−d\bd, or −\b−f\bf are specified, the results of specifying these mutu‐\n",
            "       ally-exclusive options are  specified  by  the  descriptions  of  these\n",
            "       options  above.  If  more than one of any of the other options shown in\n",
            "       the SYNOPSIS section in mutually-exclusive sets are given,  this  shall\n",
            "       not be considered an error; the last option specified in each set shall\n",
            "       determine the output.\n",
            "\n",
            "       Note that if −\b−t\bt is specified, −\b−c\bc and −\b−u\bu are not only mutually-exclusive\n",
            "       with  each  other, they are also mutually-exclusive with −\b−S\bS when deter‐\n",
            "       mining sort order. But even if −\b−S\bS is specified after all occurrences of\n",
            "       −\b−c\bc,  −\b−t\bt,  and  −\b−u\bu,  the  last  use of −\b−c\bc or −\b−u\bu determines the timestamp\n",
            "       printed when producing long format output.\n",
            "\n",
            "O\bOP\bPE\bER\bRA\bAN\bND\bDS\bS\n",
            "       The following operand shall be supported:\n",
            "\n",
            "       _\bf_\bi_\bl_\be      A pathname of a file to be written. If the file specified  is\n",
            "                 not  found,  a diagnostic message shall be output on standard\n",
            "                 error.\n",
            "\n",
            "S\bST\bTD\bDI\bIN\bN\n",
            "       Not used.\n",
            "\n",
            "I\bIN\bNP\bPU\bUT\bT F\bFI\bIL\bLE\bES\bS\n",
            "       None.\n",
            "\n",
            "E\bEN\bNV\bVI\bIR\bRO\bON\bNM\bME\bEN\bNT\bT V\bVA\bAR\bRI\bIA\bAB\bBL\bLE\bES\bS\n",
            "       The following environment variables shall affect the execution of _\bl_\bs:\n",
            "\n",
            "       _\bC_\bO_\bL_\bU_\bM_\bN_\bS   Determine the user's  preferred  column  position  width  for\n",
            "                 writing  multiple  text-column  output. If this variable con‐\n",
            "                 tains a string representing a decimal integer, the _\bl_\bs utility\n",
            "                 shall  calculate how many pathname text columns to write (see\n",
            "                 −\b−C\bC) based on the width provided. If _\bC_\bO_\bL_\bU_\bM_\bN_\bS  is  not  set  or\n",
            "                 invalid, an implementation-defined number of column positions\n",
            "                 shall be assumed, based on the implementation's knowledge  of\n",
            "                 the output device. The column width chosen to write the names\n",
            "                 of files in any given directory shall be constant.  Filenames\n",
            "                 shall  not  be truncated to fit into the multiple text-column\n",
            "                 output.\n",
            "\n",
            "       _\bL_\bA_\bN_\bG      Provide a default value for  the  internationalization  vari‐\n",
            "                 ables  that are unset or null. (See the Base Definitions vol‐\n",
            "                 ume of POSIX.1‐2008, _\bS_\be_\bc_\bt_\bi_\bo_\bn _\b8_\b._\b2, _\bI_\bn_\bt_\be_\br_\bn_\ba_\bt_\bi_\bo_\bn_\ba_\bl_\bi_\bz_\ba_\bt_\bi_\bo_\bn  _\bV_\ba_\br_\bi_\b‐\n",
            "                 _\ba_\bb_\bl_\be_\bs  for  the  precedence of internationalization variables\n",
            "                 used to determine the values of locale categories.)\n",
            "\n",
            "       _\bL_\bC_\b__\bA_\bL_\bL    If set to a non-empty string value, override  the  values  of\n",
            "                 all the other internationalization variables.\n",
            "\n",
            "       _\bL_\bC_\b__\bC_\bO_\bL_\bL_\bA_\bT_\bE\n",
            "                 Determine  the  locale for character collation information in\n",
            "                 determining the pathname collation sequence.\n",
            "\n",
            "       _\bL_\bC_\b__\bC_\bT_\bY_\bP_\bE  Determine the locale for the interpretation of  sequences  of\n",
            "                 bytes of text data as characters (for example, single-byte as\n",
            "                 opposed to multi-byte  characters  in  arguments)  and  which\n",
            "                 characters are defined as printable (character class p\bpr\bri\bin\bnt\bt).\n",
            "\n",
            "       _\bL_\bC_\b__\bM_\bE_\bS_\bS_\bA_\bG_\bE_\bS\n",
            "                 Determine the locale that should be used to affect the format\n",
            "                 and contents  of  diagnostic  messages  written  to  standard\n",
            "                 error.\n",
            "\n",
            "       _\bL_\bC_\b__\bT_\bI_\bM_\bE   Determine  the  format and contents for date and time strings\n",
            "                 written by _\bl_\bs.\n",
            "\n",
            "       _\bN_\bL_\bS_\bP_\bA_\bT_\bH   Determine the location of message catalogs for the processing\n",
            "                 of _\bL_\bC_\b__\bM_\bE_\bS_\bS_\bA_\bG_\bE_\bS.\n",
            "\n",
            "       _\bT_\bZ        Determine  the  timezone for date and time strings written by\n",
            "                 _\bl_\bs.  If _\bT_\bZ is unset or null, an unspecified default  timezone\n",
            "                 shall be used.\n",
            "\n",
            "A\bAS\bSY\bYN\bNC\bCH\bHR\bRO\bON\bNO\bOU\bUS\bS E\bEV\bVE\bEN\bNT\bTS\bS\n",
            "       Default.\n",
            "\n",
            "S\bST\bTD\bDO\bOU\bUT\bT\n",
            "       The default format shall be to list one entry per line to standard out‐\n",
            "       put; the exceptions are to terminals or when one of the −\b−C\bC, −\b−m\bm,  or  −\b−x\bx\n",
            "       options  is  specified.  If  the output is to a terminal, the format is\n",
            "       implementation-defined.\n",
            "\n",
            "       When −\b−m\bm is specified, the format used for the last element of the  list\n",
            "       shall be:\n",
            "\n",
            "           \"\b\"%\b%s\bs\\\b\\n\bn\"\b\",\b, <\b<_\bf_\bi_\bl_\be_\bn_\ba_\bm_\be>\n",
            "\n",
            "       The format used for each other element of the list shall be:\n",
            "\n",
            "           \"\b\"%\b%s\bs,\b,%\b%s\bs\"\b\",\b, <\b<_\bf_\bi_\bl_\be_\bn_\ba_\bm_\be>, <_\bs_\be_\bp_\ba_\br_\ba_\bt_\bo_\br>\n",
            "\n",
            "       where,  if  there  is  not room for the next element of the list to fit\n",
            "       within the current line length, <_\bs_\be_\bp_\ba_\br_\ba_\bt_\bo_\br> is a string  containing  an\n",
            "       optional  <space> character and a mandatory <newline> character; other‐\n",
            "       wise it is a single <space> character.\n",
            "\n",
            "       If the −\b−i\bi option is specified, the file's file serial number  (see  the\n",
            "       Base Definitions volume of POSIX.1‐2008, <\b<s\bsy\bys\bs_\b_s\bst\bta\bat\bt.\b.h\bh>\b>) shall be written\n",
            "       in the following format before any other output for  the  corresponding\n",
            "       entry:\n",
            "\n",
            "           %\b%u\bu \"\b\",\b, <\b<_\bf_\bi_\bl_\be _\bs_\be_\br_\bi_\ba_\bl _\bn_\bu_\bm_\bb_\be_\br>\n",
            "\n",
            "       If the −\b−l\bl option is specified, the following information shall be writ‐\n",
            "       ten for files other than character special and block special files:\n",
            "\n",
            "           \"\b\"%\b%s\bs %\b%u\bu %\b%s\bs %\b%s\bs %\b%u\bu %\b%s\bs %\b%s\bs\\\b\\n\bn\"\b\",\b, <\b<_\bf_\bi_\bl_\be _\bm_\bo_\bd_\be>, <_\bn_\bu_\bm_\bb_\be_\br _\bo_\bf _\bl_\bi_\bn_\bk_\bs>,\n",
            "               <_\bo_\bw_\bn_\be_\br _\bn_\ba_\bm_\be>, <_\bg_\br_\bo_\bu_\bp _\bn_\ba_\bm_\be>, <_\bs_\bi_\bz_\be>, <_\bd_\ba_\bt_\be _\ba_\bn_\bd _\bt_\bi_\bm_\be>,\n",
            "               <_\bp_\ba_\bt_\bh_\bn_\ba_\bm_\be>\n",
            "\n",
            "       If the −\b−l\bl option is specified, the following information shall be writ‐\n",
            "       ten for character special and block special files:\n",
            "\n",
            "           \"\b\"%\b%s\bs %\b%u\bu %\b%s\bs %\b%s\bs %\b%s\bs %\b%s\bs %\b%s\bs\\\b\\n\bn\"\b\",\b, <\b<_\bf_\bi_\bl_\be _\bm_\bo_\bd_\be>, <_\bn_\bu_\bm_\bb_\be_\br _\bo_\bf _\bl_\bi_\bn_\bk_\bs>,\n",
            "               <_\bo_\bw_\bn_\be_\br _\bn_\ba_\bm_\be>, <_\bg_\br_\bo_\bu_\bp _\bn_\ba_\bm_\be>, <_\bd_\be_\bv_\bi_\bc_\be _\bi_\bn_\bf_\bo>, <_\bd_\ba_\bt_\be _\ba_\bn_\bd _\bt_\bi_\bm_\be>,\n",
            "               <_\bp_\ba_\bt_\bh_\bn_\ba_\bm_\be>\n",
            "\n",
            "       In  both cases if the file is a symbolic link and the −\b−L\bL option is also\n",
            "       specified, this information shall be for the  file  resolved  from  the\n",
            "       symbolic link, except that the <_\bp_\ba_\bt_\bh_\bn_\ba_\bm_\be> field shall contain the path‐\n",
            "       name of the symbolic link itself. If the file is a  symbolic  link  and\n",
            "       the  −\b−L\bL  option  is  not specified, this information shall be about the\n",
            "       link itself and the <_\bp_\ba_\bt_\bh_\bn_\ba_\bm_\be> field shall be of the form:\n",
            "\n",
            "           \"\b\"%\b%s\bs −\b−>\b> %\b%s\bs\"\b\",\b, <\b<_\bp_\ba_\bt_\bh_\bn_\ba_\bm_\be _\bo_\bf _\bl_\bi_\bn_\bk>, <_\bc_\bo_\bn_\bt_\be_\bn_\bt_\bs _\bo_\bf _\bl_\bi_\bn_\bk>\n",
            "\n",
            "       The −\b−n\bn, −\b−g\bg, and −\b−o\bo options use the same format as −\b−l\bl, but with  omitted\n",
            "       items and their associated <blank> characters. See the OPTIONS section.\n",
            "\n",
            "       In  both the preceding −\b−l\bl forms, if <_\bo_\bw_\bn_\be_\br _\bn_\ba_\bm_\be> or <_\bg_\br_\bo_\bu_\bp _\bn_\ba_\bm_\be> cannot\n",
            "       be determined, or if −\b−n\bn is given, they shall  be  replaced  with  their\n",
            "       associated numeric values using the format %\b%u\bu.\n",
            "\n",
            "       The <_\bs_\bi_\bz_\be> field shall contain the value that would be returned for the\n",
            "       file in the _\bs_\bt_\b__\bs_\bi_\bz_\be field of s\bst\btr\bru\buc\bct\bt s\bst\bta\bat\bt (see the Base Definitions vol‐\n",
            "       ume of POSIX.1‐2008, <\b<s\bsy\bys\bs_\b_s\bst\bta\bat\bt.\b.h\bh>\b>).  Note that for some file types this\n",
            "       value is unspecified.\n",
            "\n",
            "       The <_\bd_\be_\bv_\bi_\bc_\be _\bi_\bn_\bf_\bo> field shall contain  implementation-defined  informa‐\n",
            "       tion associated with the device in question.\n",
            "\n",
            "       The  <_\bd_\ba_\bt_\be _\ba_\bn_\bd _\bt_\bi_\bm_\be> field shall contain the appropriate date and time‐\n",
            "       stamp of when the file was last modified.  In  the  POSIX  locale,  the\n",
            "       field  shall be the equivalent of the output of the following _\bd_\ba_\bt_\be com‐\n",
            "       mand:\n",
            "\n",
            "           d\bda\bat\bte\be \"\b\"+\b+%\b%b\bb %\b%e\be %\b%H\bH:\b:%\b%M\bM\"\b\"\n",
            "\n",
            "       if the file has been modified in the last six months, or:\n",
            "\n",
            "           d\bda\bat\bte\be \"\b\"+\b+%\b%b\bb %\b%e\be %\b%Y\bY\"\b\"\n",
            "\n",
            "       (where two <space> characters are used between %\b%e\be and %\b%Y\bY) if  the  file\n",
            "       has  not  been  modified  in the last six months or if the modification\n",
            "       date is in the future, except that, in both cases, the final  <newline>\n",
            "       produced  by  _\bd_\ba_\bt_\be  shall not be included and the output shall be as if\n",
            "       the _\bd_\ba_\bt_\be command were executed at the time  of  the  last  modification\n",
            "       date  of the file rather than the current time. When the _\bL_\bC_\b__\bT_\bI_\bM_\bE locale\n",
            "       category is not set to the POSIX locale, a different format  and  order\n",
            "       of presentation of this field may be used.\n",
            "\n",
            "       If the pathname was specified as a _\bf_\bi_\bl_\be operand, it shall be written as\n",
            "       specified.\n",
            "\n",
            "       The file mode written under the −\b−l\bl, −\b−n\bn, −\b−g\bg, and −\b−o\bo options  shall  con‐\n",
            "       sist of the following format:\n",
            "\n",
            "           \"\b\"%\b%c\bc%\b%s\bs%\b%s\bs%\b%s\bs%\b%s\bs\"\b\",\b, <\b<_\be_\bn_\bt_\br_\by _\bt_\by_\bp_\be>, <_\bo_\bw_\bn_\be_\br _\bp_\be_\br_\bm_\bi_\bs_\bs_\bi_\bo_\bn_\bs>,\n",
            "               <_\bg_\br_\bo_\bu_\bp _\bp_\be_\br_\bm_\bi_\bs_\bs_\bi_\bo_\bn_\bs>, <_\bo_\bt_\bh_\be_\br _\bp_\be_\br_\bm_\bi_\bs_\bs_\bi_\bo_\bn_\bs>,\n",
            "               <_\bo_\bp_\bt_\bi_\bo_\bn_\ba_\bl _\ba_\bl_\bt_\be_\br_\bn_\ba_\bt_\be _\ba_\bc_\bc_\be_\bs_\bs _\bm_\be_\bt_\bh_\bo_\bd _\bf_\bl_\ba_\bg>\n",
            "\n",
            "       The  <_\bo_\bp_\bt_\bi_\bo_\bn_\ba_\bl _\ba_\bl_\bt_\be_\br_\bn_\ba_\bt_\be _\ba_\bc_\bc_\be_\bs_\bs _\bm_\be_\bt_\bh_\bo_\bd _\bf_\bl_\ba_\bg>  shall be the empty string\n",
            "       if there is no alternate or additional access control method associated\n",
            "       with  the  file;  otherwise,  it  shall be a string containing a single\n",
            "       printable character that is not a <blank>.\n",
            "\n",
            "       The <_\be_\bn_\bt_\br_\by _\bt_\by_\bp_\be> character shall describe the type of file, as follows:\n",
            "\n",
            "       d       Directory.\n",
            "\n",
            "       b       Block special file.\n",
            "\n",
            "       c       Character special file.\n",
            "\n",
            "       l (ell) Symbolic link.\n",
            "\n",
            "       p       FIFO.\n",
            "\n",
            "       −       Regular file.\n",
            "\n",
            "       Implementations may add other characters  to  this  list  to  represent\n",
            "       other implementation-defined file types.\n",
            "\n",
            "       The next three fields shall be three characters each:\n",
            "\n",
            "       <_\bo_\bw_\bn_\be_\br _\bp_\be_\br_\bm_\bi_\bs_\bs_\bi_\bo_\bn_\bs>\n",
            "             Permissions  for  the  file owner class (see the Base Definitions\n",
            "             volume of POSIX.1‐2008, _\bS_\be_\bc_\bt_\bi_\bo_\bn _\b4_\b._\b4, _\bF_\bi_\bl_\be _\bA_\bc_\bc_\be_\bs_\bs _\bP_\be_\br_\bm_\bi_\bs_\bs_\bi_\bo_\bn_\bs).\n",
            "\n",
            "       <_\bg_\br_\bo_\bu_\bp _\bp_\be_\br_\bm_\bi_\bs_\bs_\bi_\bo_\bn_\bs>\n",
            "             Permissions for the file group class.\n",
            "\n",
            "       <_\bo_\bt_\bh_\be_\br _\bp_\be_\br_\bm_\bi_\bs_\bs_\bi_\bo_\bn_\bs>\n",
            "             Permissions for the file other class.\n",
            "\n",
            "       Each field shall have three character positions:\n",
            "\n",
            "        1. If '\b'r\br'\b', the file is readable; if '\b'−\b−'\b', the file is not readable.\n",
            "\n",
            "        2. If '\b'w\bw'\b', the file is writable; if '\b'−\b−'\b', the file is not writable.\n",
            "\n",
            "        3. The first of the following that applies:\n",
            "\n",
            "           S     If in <_\bo_\bw_\bn_\be_\br _\bp_\be_\br_\bm_\bi_\bs_\bs_\bi_\bo_\bn_\bs>, the file  is  not  executable  and\n",
            "                 set-user-ID  mode is set. If in <_\bg_\br_\bo_\bu_\bp _\bp_\be_\br_\bm_\bi_\bs_\bs_\bi_\bo_\bn_\bs>, the file\n",
            "                 is not executable and set-group-ID mode is set.\n",
            "\n",
            "           s     If in <_\bo_\bw_\bn_\be_\br _\bp_\be_\br_\bm_\bi_\bs_\bs_\bi_\bo_\bn_\bs>, the file is  executable  and  set-\n",
            "                 user-ID  mode  is set. If in <_\bg_\br_\bo_\bu_\bp _\bp_\be_\br_\bm_\bi_\bs_\bs_\bi_\bo_\bn_\bs>, the file is\n",
            "                 executable and set-group-ID mode is set.\n",
            "\n",
            "           T     If in <_\bo_\bt_\bh_\be_\br _\bp_\be_\br_\bm_\bi_\bs_\bs_\bi_\bo_\bn_\bs> and the file is a directory, search\n",
            "                 permission is not granted to others, and the restricted dele‐\n",
            "                 tion flag is set.\n",
            "\n",
            "           t     If in <_\bo_\bt_\bh_\be_\br _\bp_\be_\br_\bm_\bi_\bs_\bs_\bi_\bo_\bn_\bs> and the file is a directory, search\n",
            "                 permission  is granted to others, and the restricted deletion\n",
            "                 flag is set.\n",
            "\n",
            "           x     The file is executable or the directory is searchable.\n",
            "\n",
            "           −     None of the attributes of '\b'S\bS'\b', '\b's\bs'\b', '\b'T\bT'\b', '\b't\bt'\b', or '\b'x\bx'\b' applies.\n",
            "\n",
            "           Implementations may add other characters to this list for the third\n",
            "           character  position.  Such  additions shall, however, be written in\n",
            "           lowercase if the file is executable or searchable, and in uppercase\n",
            "           if it is not.\n",
            "\n",
            "       If  any of the −\b−l\bl, −\b−n\bn, −\b−s\bs, −\b−g\bg, or −\b−o\bo options is specified, each list of\n",
            "       files within the directory shall be preceded by a status line  indicat‐\n",
            "       ing the number of file system blocks occupied by files in the directory\n",
            "       in 512-byte units if the −\b−k\bk option is not specified, or 1024-byte units\n",
            "       if  the  −\b−k\bk option is specified, rounded up to the next integral number\n",
            "       of units, if necessary. In the POSIX locale, the format shall be:\n",
            "\n",
            "           \"\b\"t\bto\bot\bta\bal\bl %\b%u\bu\\\b\\n\bn\"\b\",\b, <\b<_\bn_\bu_\bm_\bb_\be_\br _\bo_\bf _\bu_\bn_\bi_\bt_\bs _\bi_\bn _\bt_\bh_\be _\bd_\bi_\br_\be_\bc_\bt_\bo_\br_\by>\n",
            "\n",
            "       If more than one directory, or a combination of non-directory files and\n",
            "       directories  are written, either as a result of specifying multiple op‐\n",
            "       erands, or the −\b−R\bR option, each list of files within a  directory  shall\n",
            "       be preceded by:\n",
            "\n",
            "           \"\b\"\\\b\\n\bn%\b%s\bs:\b:\\\b\\n\bn\"\b\",\b, <\b<_\bd_\bi_\br_\be_\bc_\bt_\bo_\br_\by _\bn_\ba_\bm_\be>\n",
            "\n",
            "       If  this  string  is the first thing to be written, the first <newline>\n",
            "       shall not be written. This output shall precede the number of units  in\n",
            "       the directory.\n",
            "\n",
            "       If  the  −\b−s\bs option is given, each file shall be written with the number\n",
            "       of blocks used by the file. Along with −\b−C\bC, −\b−1\b1, −\b−m\bm, or  −\b−x\bx,  the  number\n",
            "       and  a <space> shall precede the filename; with −\b−l\bl, −\b−n\bn, −\b−g\bg, or −\b−o\bo, they\n",
            "       shall precede each line describing a file.\n",
            "\n",
            "S\bST\bTD\bDE\bER\bRR\bR\n",
            "       The standard error shall be used only for diagnostic messages.\n",
            "\n",
            "O\bOU\bUT\bTP\bPU\bUT\bT F\bFI\bIL\bLE\bES\bS\n",
            "       None.\n",
            "\n",
            "E\bEX\bXT\bTE\bEN\bND\bDE\bED\bD D\bDE\bES\bSC\bCR\bRI\bIP\bPT\bTI\bIO\bON\bN\n",
            "       None.\n",
            "\n",
            "E\bEX\bXI\bIT\bT S\bST\bTA\bAT\bTU\bUS\bS\n",
            "       The following exit values shall be returned:\n",
            "\n",
            "        0    Successful completion.\n",
            "\n",
            "       >0    An error occurred.\n",
            "\n",
            "C\bCO\bON\bNS\bSE\bEQ\bQU\bUE\bEN\bNC\bCE\bES\bS O\bOF\bF E\bER\bRR\bRO\bOR\bRS\bS\n",
            "       Default.\n",
            "\n",
            "       _\bT_\bh_\be _\bf_\bo_\bl_\bl_\bo_\bw_\bi_\bn_\bg _\bs_\be_\bc_\bt_\bi_\bo_\bn_\bs _\ba_\br_\be _\bi_\bn_\bf_\bo_\br_\bm_\ba_\bt_\bi_\bv_\be_\b.\n",
            "\n",
            "A\bAP\bPP\bPL\bLI\bIC\bCA\bAT\bTI\bIO\bON\bN U\bUS\bSA\bAG\bGE\bE\n",
            "       Many implementations use the  <equals-sign>  ('\b'=\b='\b')  to  denote  sockets\n",
            "       bound  to the file system for the −\b−F\bF option. Similarly, many historical\n",
            "       implementations use the '\b's\bs'\b' character to denote sockets  as  the  entry\n",
            "       type characters for the −\b−l\bl option.\n",
            "\n",
            "       It  is difficult for an application to use every part of the file modes\n",
            "       field of _\bl_\bs −\b−l\bl in a portable manner. Certain file types and  executable\n",
            "       bits  are not guaranteed to be exactly as shown, as implementations may\n",
            "       have extensions. Applications can use this field to pass directly to  a\n",
            "       user  printout or prompt, but actions based on its contents should gen‐\n",
            "       erally be deferred, instead, to the _\bt_\be_\bs_\bt utility.\n",
            "\n",
            "       The output of _\bl_\bs (with the −\b−l\bl and related options) contains information\n",
            "       that  logically  could  be used by utilities such as _\bc_\bh_\bm_\bo_\bd and _\bt_\bo_\bu_\bc_\bh to\n",
            "       restore files to a known state. However, this information is  presented\n",
            "       in  a format that cannot be used directly by those utilities or be eas‐\n",
            "       ily translated into a format that can be used.  A  character  has  been\n",
            "       added  to  the  end  of  the permissions string so that applications at\n",
            "       least have an indication that they may be working in an  area  they  do\n",
            "       not  understand instead of assuming that they can translate the permis‐\n",
            "       sions string into something  that  can  be  used.  Future  versions  or\n",
            "       related documents may define one or more specific characters to be used\n",
            "       based on different standard additional or  alternative  access  control\n",
            "       mechanisms.\n",
            "\n",
            "       As  with  many of the utilities that deal with filenames, the output of\n",
            "       _\bl_\bs for multiple files or in one of the long  listing  formats  must  be\n",
            "       used  carefully  on  systems where filenames can contain embedded white\n",
            "       space. Systems and system administrators should institute policies  and\n",
            "       user training to limit the use of such filenames.\n",
            "\n",
            "       The  number  of disk blocks occupied by the file that it reports varies\n",
            "       depending on underlying file system type, block  size  units  reported,\n",
            "       and the method of calculating the number of blocks. On some file system\n",
            "       types, the number is the actual number of blocks occupied by  the  file\n",
            "       (counting indirect blocks and ignoring holes in the file); on others it\n",
            "       is calculated based on the file size (usually making an  allowance  for\n",
            "       indirect blocks, but ignoring holes).\n",
            "\n",
            "E\bEX\bXA\bAM\bMP\bPL\bLE\bES\bS\n",
            "       An example of a small directory tree being fully listed with _\bl_\bs −\b−l\bla\baR\bRF\bF a\ba\n",
            "       in the POSIX locale:\n",
            "\n",
            "           t\bto\bot\bta\bal\bl 1\b11\b1\n",
            "           d\bdr\brw\bwx\bxr\br-\b-x\bxr\br-\b-x\bx   3\b3 f\bfo\box\bx      p\bpr\bro\bog\bg          6\b64\b4 J\bJu\bul\bl  4\b4 1\b12\b2:\b:0\b07\b7 .\b./\b/\n",
            "           d\bdr\brw\bwx\bxr\brw\bwx\bxr\brw\bwx\bx   4\b4 f\bfo\box\bx      p\bpr\bro\bog\bg        3\b32\b26\b64\b4 J\bJu\bul\bl  4\b4 1\b12\b2:\b:0\b09\b9 .\b..\b./\b/\n",
            "           d\bdr\brw\bwx\bxr\br-\b-x\bxr\br-\b-x\bx   2\b2 f\bfo\box\bx      p\bpr\bro\bog\bg          4\b48\b8 J\bJu\bul\bl  4\b4 1\b12\b2:\b:0\b07\b7 b\bb/\b/\n",
            "           -\b-r\brw\bwx\bxr\br-\b--\b-r\br-\b--\b-   1\b1 f\bfo\box\bx      p\bpr\bro\bog\bg         5\b57\b72\b2 J\bJu\bul\bl  4\b4 1\b12\b2:\b:0\b07\b7 f\bfo\boo\bo*\b*\n",
            "\n",
            "           a/b:\n",
            "           total 4\n",
            "           drwxr-xr-x   2 fox      prog          48 Jul  4 12:07 ./\n",
            "           drwxr-xr-x   3 fox      prog          64 Jul  4 12:07 ../\n",
            "           -rw-r--r--   1 fox      prog         700 Jul  4 12:07 bar\n",
            "\n",
            "R\bRA\bAT\bTI\bIO\bON\bNA\bAL\bLE\bE\n",
            "       Some historical implementations of the _\bl_\bs utility show all entries in a\n",
            "       directory  except  dot  and dot-dot when a superuser invokes _\bl_\bs without\n",
            "       specifying the −\b−a\ba option. When ``normal'' users invoke _\bl_\bs without spec‐\n",
            "       ifying  −\b−a\ba,  they should not see information about any files with names\n",
            "       beginning with a <period> unless they were named as _\bf_\bi_\bl_\be operands.\n",
            "\n",
            "       Implementations are expected to traverse arbitrary depths when process‐\n",
            "       ing the −\b−R\bR option. The only limitation on depth should be based on run‐\n",
            "       ning out of physical storage for keeping track of untraversed  directo‐\n",
            "       ries.\n",
            "\n",
            "       The  −\b−1\b1  (one)  option  was  historically  found in BSD and BSD-derived\n",
            "       implementations only. It is required in this volume of POSIX.1‐2008  so\n",
            "       that  conforming applications might ensure that output is one entry per\n",
            "       line, even if the output is to a terminal.\n",
            "\n",
            "       The −\b−S\bS option was added in Issue 7, but had been  provided  by  several\n",
            "       implementations  for  many years. The description given in the standard\n",
            "       documents historic practice, but does not match much of the  documenta‐\n",
            "       tion  that  described  its behavior. Historical documentation typically\n",
            "       described it as something like:\n",
            "\n",
            "       −\b−S\bS        Sort by size (largest size first) instead of by name. Special\n",
            "                 character devices (listed last) are sorted by name.\n",
            "\n",
            "       even though the file type was never considered when sorting the output.\n",
            "       Character special files do typically sort close to the end of the  list\n",
            "       because  their  file size on most implementations is zero. But they are\n",
            "       sorted alphabetically with any other files that happen to have the same\n",
            "       file size (zero), not sorted separately and added to the end.\n",
            "\n",
            "       This  volume  of  POSIX.1‐2008  is frequently silent about what happens\n",
            "       when mutually-exclusive options are specified. Except for −\b−R\bR,  −\b−d\bd,  and\n",
            "       −\b−f\bf,  the  _\bl_\bs  utility  is required to accept multiple options from each\n",
            "       mutually-exclusive option set without treating them as  errors  and  to\n",
            "       use  the  behavior specified by the last option given in each mutually-\n",
            "       exclusive set. Since _\bl_\bs is one of the  most  aliased  commands,  it  is\n",
            "       important  that the implementation perform intuitively. For example, if\n",
            "       the alias were:\n",
            "\n",
            "           a\bal\bli\bia\bas\bs l\bls\bs=\b=\"\b\"l\bls\bs −\b−C\bC\"\b\"\n",
            "\n",
            "       and the user  typed  _\bl_\bs  −\b−1\b1  (one),  single-text-column  output  should\n",
            "       result, not an error.\n",
            "\n",
            "       The  −\b−g\bg,  −\b−l\bl  (ell),  −\b−n\bn,  and  −\b−o\bo  options  are not mutually-exclusive\n",
            "       options. They all enable long format  output.  They  work  together  to\n",
            "       determine  whether  the  file's owner is written (no if −\b−g\bg is present),\n",
            "       file's group is written (no if −\b−o\bo is present), and if the file's  group\n",
            "       or  owner  is  written whether it is written as the name (default) or a\n",
            "       string representation of the UID or GID number (if −\b−n\bn is present).  The\n",
            "       −\b−C\bC,  −\b−m\bm,  −\b−x\bx, and −\b−1\b1 (one) are mutually-exclusive options and the first\n",
            "       three of these disable long format output. The −\b−1\b1 (one) option does not\n",
            "       directly  change  whether  or not long format output is enabled, but by\n",
            "       overriding −\b−C\bC, −\b−m\bm, and −\b−x\bx, it can re-enable long format output that had\n",
            "       been disabled by one of these options.\n",
            "\n",
            "       Earlier  versions  of  this standard did not describe the BSD −\b−A\bA option\n",
            "       (like −\b−a\ba, but dot and dot-dot are not written out). It has  been  added\n",
            "       due to widespread implementation.\n",
            "\n",
            "       Implementations may make −\b−q\bq the default for terminals to prevent trojan\n",
            "       horse attacks on terminals with special escape sequences.  This is  not\n",
            "       required because:\n",
            "\n",
            "        *  Some  control characters may be useful on some terminals; for exam‐\n",
            "           ple, a system might write them as \"\b\"\\\b\\0\b00\b01\b1\"\b\" or \"\b\"^\b^A\bA\"\b\".\n",
            "\n",
            "        *  Special behavior for terminals  is  not  relevant  to  applications\n",
            "           portability.\n",
            "\n",
            "       An    early    proposal    specified    that    the    <_\bo_\bp_\bt_\bi_\bo_\bn_\ba_\bl _\ba_\bl_\bt_\be_\br_\b‐\n",
            "       _\bn_\ba_\bt_\be _\ba_\bc_\bc_\be_\bs_\bs _\bm_\be_\bt_\bh_\bo_\bd _\bf_\bl_\ba_\bg> had to be '\b'+\b+'\b' if there was an alternate access\n",
            "       method  used  on the file or <space> if there was not. This was changed\n",
            "       to be <space> if there is not and a single printable character if there\n",
            "       is. This was done for three reasons:\n",
            "\n",
            "        1. There  are  historical  implementations using characters other than\n",
            "           '\b'+\b+'\b'.\n",
            "\n",
            "        2. There are implementations that vary this  character  used  in  that\n",
            "           position to distinguish between various alternate access methods in\n",
            "           use.\n",
            "\n",
            "        3. The standard developers did not want to preclude future  specifica‐\n",
            "           tions  that  might  need  a  way to specify more than one alternate\n",
            "           access method.\n",
            "\n",
            "       Nonetheless, implementations providing a single alternate access method\n",
            "       are encouraged to use '\b'+\b+'\b'.\n",
            "\n",
            "       Earlier  versions  of  this  standard did not have the −\b−k\bk option, which\n",
            "       meant that the −\b−s\bs option could not be used portably as its  block  size\n",
            "       was implementation-defined, and the units used to specify the number of\n",
            "       blocks occupied by files in a directory in an _\bl_\bs −\b−l\bl listing were  fixed\n",
            "       as  512-byte  units.  The −\b−k\bk option has been added to provide a way for\n",
            "       the −\b−s\bs option to be used portably, and for consistency it also  changes\n",
            "       the aforementioned units from 512-byte to 1024-byte.\n",
            "\n",
            "       The  <_\bd_\ba_\bt_\be _\ba_\bn_\bd _\bt_\bi_\bm_\be>  field  in the −\b−l\bl format is specified only for the\n",
            "       POSIX locale. As noted, the format can be different in  other  locales.\n",
            "       No   mechanism   for  defining  this  is  present  in  this  volume  of\n",
            "       POSIX.1‐2008, as the appropriate vehicle is a  messaging  system;  that\n",
            "       is, the format should be specified as a ``message''.\n",
            "\n",
            "F\bFU\bUT\bTU\bUR\bRE\bE D\bDI\bIR\bRE\bEC\bCT\bTI\bIO\bON\bNS\bS\n",
            "       Allowing  −\b−f\bf  to  ignore  the −\b−A\bA, −\b−g\bg, −\b−l\bl, −\b−n\bn, −\b−o\bo, and −\b−s\bs options may be\n",
            "       removed in a future version.\n",
            "\n",
            "S\bSE\bEE\bE A\bAL\bLS\bSO\bO\n",
            "       _\bc_\bh_\bm_\bo_\bd, _\bf_\bi_\bn_\bd\n",
            "\n",
            "       The Base Definitions volume of POSIX.1‐2008, _\bS_\be_\bc_\bt_\bi_\bo_\bn _\b4_\b._\b4,  _\bF_\bi_\bl_\be  _\bA_\bc_\bc_\be_\bs_\bs\n",
            "       _\bP_\be_\br_\bm_\bi_\bs_\bs_\bi_\bo_\bn_\bs,  _\bC_\bh_\ba_\bp_\bt_\be_\br  _\b8,  _\bE_\bn_\bv_\bi_\br_\bo_\bn_\bm_\be_\bn_\bt _\bV_\ba_\br_\bi_\ba_\bb_\bl_\be_\bs, _\bS_\be_\bc_\bt_\bi_\bo_\bn _\b1_\b2_\b._\b2, _\bU_\bt_\bi_\bl_\bi_\bt_\by\n",
            "       _\bS_\by_\bn_\bt_\ba_\bx _\bG_\bu_\bi_\bd_\be_\bl_\bi_\bn_\be_\bs, <\b<s\bsy\bys\bs_\b_s\bst\bta\bat\bt.\b.h\bh>\b>\n",
            "\n",
            "       The System Interfaces volume of POSIX.1‐2008, _\bf_\bs_\bt_\ba_\bt_\ba_\bt()\n",
            "\n",
            "C\bCO\bOP\bPY\bYR\bRI\bIG\bGH\bHT\bT\n",
            "       Portions of this text are reprinted and reproduced in  electronic  form\n",
            "       from IEEE Std 1003.1, 2013 Edition, Standard for Information Technology\n",
            "       -- Portable Operating System Interface (POSIX),  The  Open  Group  Base\n",
            "       Specifications Issue 7, Copyright (C) 2013 by the Institute of Electri‐\n",
            "       cal and Electronics Engineers,  Inc  and  The  Open  Group.   (This  is\n",
            "       POSIX.1-2008  with  the  2013  Technical Corrigendum 1 applied.) In the\n",
            "       event of any discrepancy between this version and the original IEEE and\n",
            "       The  Open Group Standard, the original IEEE and The Open Group Standard\n",
            "       is the referee document. The original Standard can be  obtained  online\n",
            "       at http://www.unix.org/online.html .\n",
            "\n",
            "       Any  typographical  or  formatting  errors that appear in this page are\n",
            "       most likely to have been introduced during the conversion of the source\n",
            "       files  to  man page format. To report such errors, see https://www.ker‐\n",
            "       nel.org/doc/man-pages/reporting_bugs.html .\n",
            "\n",
            "IEEE/The Open Group                  2013                           LS(1POSIX)\n"
          ],
          "name": "stdout"
        }
      ]
    },
    {
      "cell_type": "code",
      "metadata": {
        "id": "66q1m7c0Cz9K",
        "colab_type": "code",
        "colab": {}
      },
      "source": [
        "man <cmd>"
      ],
      "execution_count": 0,
      "outputs": []
    },
    {
      "cell_type": "code",
      "metadata": {
        "id": "v94dFwcPAhEd",
        "colab_type": "code",
        "colab": {
          "base_uri": "https://localhost:8080/",
          "height": 34
        },
        "outputId": "196cb68f-666e-4d75-b347-5777554b155a"
      },
      "source": [
        "!pwd"
      ],
      "execution_count": 10,
      "outputs": [
        {
          "output_type": "stream",
          "text": [
            "/content\n"
          ],
          "name": "stdout"
        }
      ]
    },
    {
      "cell_type": "code",
      "metadata": {
        "id": "xQaTDgb4B2Ce",
        "colab_type": "code",
        "colab": {
          "base_uri": "https://localhost:8080/",
          "height": 34
        },
        "outputId": "28dca9b0-5c29-4986-d062-765753a5cccc"
      },
      "source": [
        "!ls"
      ],
      "execution_count": 8,
      "outputs": [
        {
          "output_type": "stream",
          "text": [
            "sample_data\n"
          ],
          "name": "stdout"
        }
      ]
    },
    {
      "cell_type": "code",
      "metadata": {
        "id": "i9gu5DbbB5jh",
        "colab_type": "code",
        "colab": {
          "base_uri": "https://localhost:8080/",
          "height": 51
        },
        "outputId": "1ae5926f-a35f-4c30-d2b6-0f8c38b0983e"
      },
      "source": [
        "!ls -l"
      ],
      "execution_count": 9,
      "outputs": [
        {
          "output_type": "stream",
          "text": [
            "total 4\n",
            "drwxr-xr-x 1 root root 4096 Aug 27 16:17 sample_data\n"
          ],
          "name": "stdout"
        }
      ]
    },
    {
      "cell_type": "code",
      "metadata": {
        "id": "BXdMgT0tCAAH",
        "colab_type": "code",
        "colab": {}
      },
      "source": [
        "##El comando mkdir nombredir crea el directorio llamado nombredir dentro del directorio actual.\n",
        "\n",
        "\n",
        "\n",
        "!mkdir data"
      ],
      "execution_count": 0,
      "outputs": []
    },
    {
      "cell_type": "code",
      "metadata": {
        "id": "4Hh__DiVEhj1",
        "colab_type": "code",
        "colab": {
          "base_uri": "https://localhost:8080/",
          "height": 34
        },
        "outputId": "dcf47920-87f8-45fb-e489-3a3a92c13988"
      },
      "source": [
        "!ls -l ./data"
      ],
      "execution_count": 22,
      "outputs": [
        {
          "output_type": "stream",
          "text": [
            "total 0\n"
          ],
          "name": "stdout"
        }
      ]
    },
    {
      "cell_type": "code",
      "metadata": {
        "id": "QM1fzT9QErQg",
        "colab_type": "code",
        "colab": {
          "base_uri": "https://localhost:8080/",
          "height": 34
        },
        "outputId": "2fd1debb-d14d-45d7-a51c-1e01329c4183"
      },
      "source": [
        "cd data"
      ],
      "execution_count": 23,
      "outputs": [
        {
          "output_type": "stream",
          "text": [
            "/content/data/data\n"
          ],
          "name": "stdout"
        }
      ]
    },
    {
      "cell_type": "code",
      "metadata": {
        "id": "_rT5LMhdEuJa",
        "colab_type": "code",
        "colab": {
          "base_uri": "https://localhost:8080/",
          "height": 34
        },
        "outputId": "62559e7c-c830-4c68-a09b-6e35cea0ef3f"
      },
      "source": [
        "pwd"
      ],
      "execution_count": 24,
      "outputs": [
        {
          "output_type": "execute_result",
          "data": {
            "text/plain": [
              "'/content/data/data'"
            ]
          },
          "metadata": {
            "tags": []
          },
          "execution_count": 24
        }
      ]
    },
    {
      "cell_type": "code",
      "metadata": {
        "id": "-ShFdZpFExA9",
        "colab_type": "code",
        "colab": {
          "base_uri": "https://localhost:8080/",
          "height": 34
        },
        "outputId": "d1666f2c-5f7c-4994-900e-317c6be28876"
      },
      "source": [
        "!cd ..\n",
        "!pwd"
      ],
      "execution_count": 25,
      "outputs": [
        {
          "output_type": "stream",
          "text": [
            "/content/data/data\n"
          ],
          "name": "stdout"
        }
      ]
    },
    {
      "cell_type": "code",
      "metadata": {
        "id": "lZi87Y_HE6TW",
        "colab_type": "code",
        "colab": {
          "base_uri": "https://localhost:8080/",
          "height": 34
        },
        "outputId": "eea7499f-5c51-4df0-d9d6-94bda3e09a18"
      },
      "source": [
        "ls -l"
      ],
      "execution_count": 26,
      "outputs": [
        {
          "output_type": "stream",
          "text": [
            "total 0\n"
          ],
          "name": "stdout"
        }
      ]
    },
    {
      "cell_type": "code",
      "metadata": {
        "id": "m8FGxGv3E_Hx",
        "colab_type": "code",
        "colab": {
          "base_uri": "https://localhost:8080/",
          "height": 34
        },
        "outputId": "de5f62cf-70f0-49f7-c9f3-62a0ebab254a"
      },
      "source": [
        "rmdir ./data"
      ],
      "execution_count": 20,
      "outputs": [
        {
          "output_type": "stream",
          "text": [
            "rmdir: failed to remove './data': No such file or directory\n"
          ],
          "name": "stdout"
        }
      ]
    },
    {
      "cell_type": "code",
      "metadata": {
        "id": "y-c3S38EFbLs",
        "colab_type": "code",
        "colab": {
          "base_uri": "https://localhost:8080/",
          "height": 34
        },
        "outputId": "92f4d2e2-7bb4-4c4a-9fba-b2d573ed5e0e"
      },
      "source": [
        "##El comando touch permite modificar las fechas de creación y acceso de un archivo.\n",
        "!touch out.1\n",
        "!ls -l out*\n"
      ],
      "execution_count": 28,
      "outputs": [
        {
          "output_type": "stream",
          "text": [
            "-rw-r--r-- 1 root root 0 Sep 20 23:51 out.1\n"
          ],
          "name": "stdout"
        }
      ]
    },
    {
      "cell_type": "code",
      "metadata": {
        "id": "0mFLhj0nFvQ5",
        "colab_type": "code",
        "colab": {
          "base_uri": "https://localhost:8080/",
          "height": 51
        },
        "outputId": "2173bc22-1afe-474e-bfd7-0ef82f739c38"
      },
      "source": [
        "###Su sintaxis es cp <origen> <destino>. En el siguiente ejemplo se crea una copia de out.1 llamada out.2.\n",
        "\n",
        "!cp out.1 out.2\n",
        "!ls -l out*"
      ],
      "execution_count": 29,
      "outputs": [
        {
          "output_type": "stream",
          "text": [
            "-rw-r--r-- 1 root root 0 Sep 20 23:51 out.1\n",
            "-rw-r--r-- 1 root root 0 Sep 20 23:53 out.2\n"
          ],
          "name": "stdout"
        }
      ]
    },
    {
      "cell_type": "code",
      "metadata": {
        "id": "hluqkT4YGFi7",
        "colab_type": "code",
        "colab": {
          "base_uri": "https://localhost:8080/",
          "height": 51
        },
        "outputId": "3d8b0505-7d93-4d41-c526-21aa2b15435a"
      },
      "source": [
        "## mv puede cambiar la ubicación y el nombre de un archivo. \n",
        "##Su sintaxis es mv <origen> <destino>.\n",
        "##En el siguiente ejemplo se cambia el nombre del archivo out.2 a out.3.\n",
        "\n",
        "!mv out.2 out.3\n",
        "!ls -1 out*"
      ],
      "execution_count": 31,
      "outputs": [
        {
          "output_type": "stream",
          "text": [
            "out.1\n",
            "out.3\n"
          ],
          "name": "stdout"
        }
      ]
    },
    {
      "cell_type": "code",
      "metadata": {
        "id": "z6cyLkyQIIWv",
        "colab_type": "code",
        "colab": {}
      },
      "source": [
        "## rm se borran todos los archivos creados como ejemplos en este libro.\n",
        "!rm out*"
      ],
      "execution_count": 0,
      "outputs": []
    }
  ]
}