{
  "nbformat": 4,
  "nbformat_minor": 0,
  "metadata": {
    "colab": {
      "name": "Lab:Transformacion de archivos con Bash.ipynb",
      "provenance": [],
      "collapsed_sections": [],
      "include_colab_link": true
    },
    "kernelspec": {
      "name": "python3",
      "display_name": "Python 3"
    }
  },
  "cells": [
    {
      "cell_type": "markdown",
      "metadata": {
        "id": "view-in-github",
        "colab_type": "text"
      },
      "source": [
        "<a href=\"https://colab.research.google.com/github/sagudelom06/Clase-1-Ciencia-de-los-datos/blob/master/Lab_Transformacion_de_archivos_con_Bash.ipynb\" target=\"_parent\"><img src=\"https://colab.research.google.com/assets/colab-badge.svg\" alt=\"Open In Colab\"/></a>"
      ]
    },
    {
      "cell_type": "code",
      "metadata": {
        "id": "83F7rID0fY1R",
        "colab_type": "code",
        "colab": {}
      },
      "source": [
        "!cat data1.csv"
      ],
      "execution_count": 0,
      "outputs": []
    },
    {
      "cell_type": "code",
      "metadata": {
        "id": "xvOLvkt-jzRc",
        "colab_type": "code",
        "colab": {
          "base_uri": "https://localhost:8080/",
          "height": 68
        },
        "outputId": "3739dcb1-cf69-4b5a-ddd2-945078aeb42d"
      },
      "source": [
        "!cat data2.csv"
      ],
      "execution_count": 48,
      "outputs": [
        {
          "output_type": "stream",
          "text": [
            "\n",
            "A   hhh:9,iii:5,eee:7,bbb:1\n",
            "C\tiii:6,ddd:5,eee:4,jjj:3\n"
          ],
          "name": "stdout"
        }
      ]
    },
    {
      "cell_type": "code",
      "metadata": {
        "id": "gl1lM7soj296",
        "colab_type": "code",
        "colab": {
          "base_uri": "https://localhost:8080/",
          "height": 68
        },
        "outputId": "2fe49fb8-3234-4e08-8b1c-dadf731ca88b"
      },
      "source": [
        "!cat data3.csv"
      ],
      "execution_count": 49,
      "outputs": [
        {
          "output_type": "stream",
          "text": [
            "A\tbbb:2,hhh:0,ccc:4,fff:1,aaa:7\n",
            "A\taaa:5,fff:8,ddd:2,iii:0,jjj:7,ccc:1\n",
            "B\tfff:3,hhh:1,ddd:2"
          ],
          "name": "stdout"
        }
      ]
    },
    {
      "cell_type": "code",
      "metadata": {
        "id": "zcpvpceq1O3I",
        "colab_type": "code",
        "colab": {}
      },
      "source": [
        "!cat data1.csv data2.csv data3.csv> dat"
      ],
      "execution_count": 0,
      "outputs": []
    },
    {
      "cell_type": "code",
      "metadata": {
        "id": "OboW92n82QK4",
        "colab_type": "code",
        "colab": {}
      },
      "source": [
        "!cat dat | sort>data"
      ],
      "execution_count": 0,
      "outputs": []
    },
    {
      "cell_type": "code",
      "metadata": {
        "id": "H1iWw-SL2ifa",
        "colab_type": "code",
        "colab": {
          "base_uri": "https://localhost:8080/",
          "height": 187
        },
        "outputId": "5c3c7aef-21fe-4711-fd22-0fd4773671e5"
      },
      "source": [
        "!cat data"
      ],
      "execution_count": 107,
      "outputs": [
        {
          "output_type": "stream",
          "text": [
            "\n",
            "\n",
            "A\taaa:5,fff:8,ddd:2,iii:0,jjj:7,ccc:1\n",
            "A\tbbb:2,hhh:0,ccc:4,fff:1,aaa:7\n",
            "A\tccc:2,ddd:0,aaa:3,hhh:9\n",
            "A   hhh:9,iii:5,eee:7,bbb:1\n",
            "B\tddd:2,ggg:5,ccc:6,jjj:1\n",
            "B\tfff:3,hhh:1,ddd:2\n",
            "C\tiii:6,ddd:5,eee:4,jjj:3\n",
            "E\tjjj:3,bbb:0,ddd:9,ggg:8,hhh:2\n"
          ],
          "name": "stdout"
        }
      ]
    },
    {
      "cell_type": "code",
      "metadata": {
        "id": "z60JNDZlvvrT",
        "colab_type": "code",
        "colab": {}
      },
      "source": [
        "#Elimino las lineas en blanco\n",
        "!sed '/^$/d' data > out1\n"
      ],
      "execution_count": 0,
      "outputs": []
    },
    {
      "cell_type": "code",
      "metadata": {
        "id": "acxT3Bbayolg",
        "colab_type": "code",
        "colab": {}
      },
      "source": [
        "#Enumero las lineas procesadas\n",
        "!awk '{print NR \",\" $s}' out1 > out2"
      ],
      "execution_count": 0,
      "outputs": []
    },
    {
      "cell_type": "code",
      "metadata": {
        "id": "az5QnqMx_aq-",
        "colab_type": "code",
        "colab": {}
      },
      "source": [
        ""
      ],
      "execution_count": 0,
      "outputs": []
    },
    {
      "cell_type": "code",
      "metadata": {
        "id": "X60wfZag3i6h",
        "colab_type": "code",
        "colab": {
          "base_uri": "https://localhost:8080/",
          "height": 153
        },
        "outputId": "45c893e3-1402-4edc-fec7-f42078061298"
      },
      "source": [
        "!cat out2"
      ],
      "execution_count": 116,
      "outputs": [
        {
          "output_type": "stream",
          "text": [
            "1,A\taaa:5,fff:8,ddd:2,iii:0,jjj:7,ccc:1\n",
            "2,A\tbbb:2,hhh:0,ccc:4,fff:1,aaa:7\n",
            "3,A\tccc:2,ddd:0,aaa:3,hhh:9\n",
            "4,A   hhh:9,iii:5,eee:7,bbb:1\n",
            "5,B\tddd:2,ggg:5,ccc:6,jjj:1\n",
            "6,B\tfff:3,hhh:1,ddd:2\n",
            "7,C\tiii:6,ddd:5,eee:4,jjj:3\n",
            "8,E\tjjj:3,bbb:0,ddd:9,ggg:8,hhh:2\n"
          ],
          "name": "stdout"
        }
      ]
    },
    {
      "cell_type": "code",
      "metadata": {
        "id": "3v8bWAST9BC_",
        "colab_type": "code",
        "colab": {}
      },
      "source": [
        "#se emplea la opción s para indicar que se realizarán sustituciones de texto: \n",
        "### Cambia la primera ocurrencia de X por x en cada linea\n",
        "#sed 's/X/x/' out.1\n",
        "\n",
        "#La letra de la primera columna del archivo.\n",
        "\n",
        "!sed \"s/^/\"${out2}\\,\"/\" $out2 > out3\n",
        "!cat out3"
      ],
      "execution_count": 0,
      "outputs": []
    }
  ]
}