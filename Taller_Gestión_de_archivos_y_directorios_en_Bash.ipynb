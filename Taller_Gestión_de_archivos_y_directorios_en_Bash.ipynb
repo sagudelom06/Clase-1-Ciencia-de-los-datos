{
  "nbformat": 4,
  "nbformat_minor": 0,
  "metadata": {
    "colab": {
      "name": "Taller: Gestión de archivos y directorios en Bash.ipynb",
      "provenance": [],
      "include_colab_link": true
    },
    "kernelspec": {
      "name": "python3",
      "display_name": "Python 3"
    }
  },
  "cells": [
    {
      "cell_type": "markdown",
      "metadata": {
        "id": "view-in-github",
        "colab_type": "text"
      },
      "source": [
        "<a href=\"https://colab.research.google.com/github/sagudelom06/Clase-1-Ciencia-de-los-datos/blob/master/Taller_Gesti%C3%B3n_de_archivos_y_directorios_en_Bash.ipynb\" target=\"_parent\"><img src=\"https://colab.research.google.com/assets/colab-badge.svg\" alt=\"Open In Colab\"/></a>"
      ]
    },
    {
      "cell_type": "code",
      "metadata": {
        "id": "faHTkGasJDyJ",
        "colab_type": "code",
        "colab": {}
      },
      "source": [
        "#actividad 1\n",
        "\n",
        "!mkdir practica-bach-1"
      ],
      "execution_count": 0,
      "outputs": []
    },
    {
      "cell_type": "code",
      "metadata": {
        "id": "Mal3IuO4KfUX",
        "colab_type": "code",
        "colab": {}
      },
      "source": [
        "##actividad 2 Dentro del directorio practica-bash-1 cree tres carpetas llamadas 1, 2 y 3.\n",
        "!mkdir ./practica-bach-1/1\n",
        "!mkdir ./practica-bach-1/2\n",
        "!mkdir ./practica-bach-1/3"
      ],
      "execution_count": 0,
      "outputs": []
    },
    {
      "cell_type": "code",
      "metadata": {
        "id": "iSvCBWp8L5hM",
        "colab_type": "code",
        "colab": {
          "base_uri": "https://localhost:8080/",
          "height": 129
        },
        "outputId": "e74e1e02-2032-40b5-f367-5ebc69aed939"
      },
      "source": [
        " Actividad 3 En el directorio 1, cree los directorios 1-1, 1-2 y 1-3.\n",
        "!mkdir ./practica-bach-1/1/1-1\n",
        "!mkdir ./practica-bach-1/1/1-2\n",
        "!mkdir ./practica-bach-1/1/1-3"
      ],
      "execution_count": 31,
      "outputs": [
        {
          "output_type": "error",
          "ename": "SyntaxError",
          "evalue": "ignored",
          "traceback": [
            "\u001b[0;36m  File \u001b[0;32m\"<ipython-input-31-540dc805e94b>\"\u001b[0;36m, line \u001b[0;32m1\u001b[0m\n\u001b[0;31m    Actividad 3 En el directorio 1, cree los directorios 1-1, 1-2 y 1-3.\u001b[0m\n\u001b[0m              ^\u001b[0m\n\u001b[0;31mSyntaxError\u001b[0m\u001b[0;31m:\u001b[0m invalid syntax\n"
          ]
        }
      ]
    },
    {
      "cell_type": "code",
      "metadata": {
        "id": "SUraudQpMRUX",
        "colab_type": "code",
        "colab": {}
      },
      "source": [
        " ##Actividad 4 En el directorio 2, cree los directorios 2-1, 2-2 y 2-3\n",
        "!mkdir ./practica-bach-1/2/1-1\n",
        "!mkdir ./practica-bach-1/2/1-2\n",
        "!mkdir ./practica-bach-1/2/1-3"
      ],
      "execution_count": 0,
      "outputs": []
    },
    {
      "cell_type": "code",
      "metadata": {
        "id": "FIdSTEf-MktJ",
        "colab_type": "code",
        "colab": {}
      },
      "source": [
        "#Actividad 5 En el directorio 3, cree los directorios 3-1, 3-2 y 3-3.\n",
        "\n",
        "!mkdir ./practica-bach-1/3/1-1\n",
        "!mkdir ./practica-bach-1/3/1-2\n",
        "!mkdir ./practica-bach-1/3/1-3"
      ],
      "execution_count": 0,
      "outputs": []
    },
    {
      "cell_type": "code",
      "metadata": {
        "id": "l8ayvuZ0Mvmb",
        "colab_type": "code",
        "colab": {
          "base_uri": "https://localhost:8080/",
          "height": 289
        },
        "outputId": "2646548c-59bb-417c-e5c2-99697d0cded1"
      },
      "source": [
        "##Actividad 6 Estando posicionado en la carpeta practica-bash-1, use el comando tree para visualizar la estructura de subdirectorios.\n",
        "\n",
        "!apt-get install tree"
      ],
      "execution_count": 9,
      "outputs": [
        {
          "output_type": "stream",
          "text": [
            "Reading package lists... Done\n",
            "Building dependency tree       \n",
            "Reading state information... Done\n",
            "The following NEW packages will be installed:\n",
            "  tree\n",
            "0 upgraded, 1 newly installed, 0 to remove and 8 not upgraded.\n",
            "Need to get 40.7 kB of archives.\n",
            "After this operation, 105 kB of additional disk space will be used.\n",
            "Get:1 http://archive.ubuntu.com/ubuntu bionic/universe amd64 tree amd64 1.7.0-5 [40.7 kB]\n",
            "Fetched 40.7 kB in 0s (124 kB/s)\n",
            "Selecting previously unselected package tree.\n",
            "(Reading database ... 131183 files and directories currently installed.)\n",
            "Preparing to unpack .../tree_1.7.0-5_amd64.deb ...\n",
            "Unpacking tree (1.7.0-5) ...\n",
            "Setting up tree (1.7.0-5) ...\n",
            "Processing triggers for man-db (2.8.3-2ubuntu0.1) ...\n"
          ],
          "name": "stdout"
        }
      ]
    },
    {
      "cell_type": "code",
      "metadata": {
        "id": "66T8UgymNCEG",
        "colab_type": "code",
        "colab": {
          "base_uri": "https://localhost:8080/",
          "height": 272
        },
        "outputId": "3f162e40-ff85-4551-d3c2-b27ef614a91c"
      },
      "source": [
        "##Actividad 6 Estando posicionado en la carpeta practica-bash-1, use el comando tree para visualizar la estructura de subdirectorios.\n",
        "\n",
        "\n",
        "!cd practica-bach-1 && tree"
      ],
      "execution_count": 10,
      "outputs": [
        {
          "output_type": "stream",
          "text": [
            ".\n",
            "├── 1\n",
            "│   ├── 1-1\n",
            "│   ├── 1-2\n",
            "│   └── 1-3\n",
            "├── 2\n",
            "│   ├── 1-1\n",
            "│   ├── 1-2\n",
            "│   └── 1-3\n",
            "└── 3\n",
            "    ├── 1-1\n",
            "    ├── 1-2\n",
            "    └── 1-3\n",
            "\n",
            "12 directories, 0 files\n"
          ],
          "name": "stdout"
        }
      ]
    },
    {
      "cell_type": "code",
      "metadata": {
        "id": "yb_wwoMBNaFC",
        "colab_type": "code",
        "colab": {
          "base_uri": "https://localhost:8080/",
          "height": 34
        },
        "outputId": "099cfeb8-13bb-4761-8ac4-2574e91e185d"
      },
      "source": [
        "##Actividad 7 En el directorio 1-1 cree los archivos _SUCCESS y part-0.\n",
        "!cd practica-bach-1/1/1-1 && touch _SUCCESS && touch part-0"
      ],
      "execution_count": 32,
      "outputs": [
        {
          "output_type": "stream",
          "text": [
            "/bin/bash: line 0: cd: practica-bach-1/1/1-1: No such file or directory\n"
          ],
          "name": "stdout"
        }
      ]
    },
    {
      "cell_type": "code",
      "metadata": {
        "id": "lZTzLHHdQf8v",
        "colab_type": "code",
        "colab": {
          "base_uri": "https://localhost:8080/",
          "height": 34
        },
        "outputId": "5d51d5b7-6ce9-4181-83b7-c16e1fd4d2a7"
      },
      "source": [
        "cd /content/practica-bach-1/1/1-1"
      ],
      "execution_count": 37,
      "outputs": [
        {
          "output_type": "stream",
          "text": [
            "/content/practica-bach-1/1/1-1\n"
          ],
          "name": "stdout"
        }
      ]
    },
    {
      "cell_type": "code",
      "metadata": {
        "id": "xkzP2kQ4OqxQ",
        "colab_type": "code",
        "colab": {
          "base_uri": "https://localhost:8080/",
          "height": 51
        },
        "outputId": "f0e9b7ae-b072-4bef-8b38-d363c7fea48c"
      },
      "source": [
        "!pwd\n",
        "!cp ./part-0 part-1"
      ],
      "execution_count": 40,
      "outputs": [
        {
          "output_type": "stream",
          "text": [
            "/content/practica-bach-1/1/1-1\n",
            "cp: cannot stat './part-0': No such file or directory\n"
          ],
          "name": "stdout"
        }
      ]
    },
    {
      "cell_type": "code",
      "metadata": {
        "id": "S4aGKDUsPwal",
        "colab_type": "code",
        "colab": {}
      },
      "source": [
        "!cp part-0 part-2"
      ],
      "execution_count": 0,
      "outputs": []
    },
    {
      "cell_type": "code",
      "metadata": {
        "id": "KeGd66pLP-2p",
        "colab_type": "code",
        "colab": {}
      },
      "source": [
        "!mv part-0 part-00001"
      ],
      "execution_count": 0,
      "outputs": []
    },
    {
      "cell_type": "code",
      "metadata": {
        "id": "pYYXWYu4TDUt",
        "colab_type": "code",
        "colab": {}
      },
      "source": [
        "!mv part-2 part-00002"
      ],
      "execution_count": 0,
      "outputs": []
    },
    {
      "cell_type": "code",
      "metadata": {
        "id": "v6i_BdsmTTaS",
        "colab_type": "code",
        "colab": {
          "base_uri": "https://localhost:8080/",
          "height": 391
        },
        "outputId": "e36362bc-cbcb-4627-fe1f-f3db18914d64"
      },
      "source": [
        "!cd /content/practica-bach-1 && tree"
      ],
      "execution_count": 43,
      "outputs": [
        {
          "output_type": "stream",
          "text": [
            ".\n",
            "├── 1\n",
            "│   ├── 1-1\n",
            "│   │   ├── part-00001\n",
            "│   │   ├── part-00002\n",
            "│   │   ├── practica-bach-1\n",
            "│   │   │   ├── 1\n",
            "│   │   │   ├── 2\n",
            "│   │   │   └── 3\n",
            "│   │   └── _SUCCESS\n",
            "│   ├── 1-2\n",
            "│   └── 1-3\n",
            "├── 2\n",
            "│   ├── 1-1\n",
            "│   ├── 1-2\n",
            "│   └── 1-3\n",
            "└── 3\n",
            "    ├── 1-1\n",
            "    ├── 1-2\n",
            "    └── 1-3\n",
            "\n",
            "16 directories, 3 files\n"
          ],
          "name": "stdout"
        }
      ]
    },
    {
      "cell_type": "code",
      "metadata": {
        "id": "PnN_ZnX6Tjdu",
        "colab_type": "code",
        "colab": {}
      },
      "source": [
        "\n",
        "##Actividad 11 Mueva el contenido de la carpeta 1-1 a la carpeta 3-3.\n",
        "!mv * ../../3/1-3"
      ],
      "execution_count": 0,
      "outputs": []
    }
  ]
}