{
  "nbformat": 4,
  "nbformat_minor": 0,
  "metadata": {
    "colab": {
      "name": "lab3:.ipynb",
      "provenance": [],
      "collapsed_sections": [],
      "include_colab_link": true
    },
    "kernelspec": {
      "name": "python3",
      "display_name": "Python 3"
    }
  },
  "cells": [
    {
      "cell_type": "markdown",
      "metadata": {
        "id": "view-in-github",
        "colab_type": "text"
      },
      "source": [
        "<a href=\"https://colab.research.google.com/github/sagudelom06/Clase-1-Ciencia-de-los-datos/blob/master/lab3_.ipynb\" target=\"_parent\"><img src=\"https://colab.research.google.com/assets/colab-badge.svg\" alt=\"Open In Colab\"/></a>"
      ]
    },
    {
      "cell_type": "code",
      "metadata": {
        "id": "qR1A0KSpZaGu",
        "colab_type": "code",
        "outputId": "8db76007-cae5-42ca-a0bf-3521a174d8e2",
        "colab": {
          "base_uri": "https://localhost:8080/",
          "height": 34
        }
      },
      "source": [
        "\n",
        "import numpy as np\n",
        "import pandas as pd\n",
        "\n",
        "\n",
        "Imprima la suma de la segunda columna.\n",
        "\n",
        "file = pd.read_csv(\"data.csv\", sep=\"\\t\", names=list(range(1,6)))\n",
        "\n",
        "print(file[2].sum())\n"
      ],
      "execution_count": 8,
      "outputs": [
        {
          "output_type": "stream",
          "text": [
            "190\n"
          ],
          "name": "stdout"
        }
      ]
    },
    {
      "cell_type": "code",
      "metadata": {
        "id": "ky1gboOEN7MP",
        "colab_type": "code",
        "colab": {
          "base_uri": "https://localhost:8080/",
          "height": 102
        },
        "outputId": "f889aa2c-75da-4259-c7d4-e0c306701f72"
      },
      "source": [
        "#Imprima la cantidad de registros por letra para la primera columna, ordenados alfabeticamente\n",
        "\n",
        "import pandas as pd\n",
        "file = pd.read_csv(\"data.csv\", sep=\"\\t\", names=list(range(1,6)))\n",
        "\n",
        "r = file.groupby(1).size()\n",
        "r = r.reset_index()\n",
        "w= [print(r.iloc[i,0],r.iloc[i,1], sep=',') for i in r.index]\n"
      ],
      "execution_count": 68,
      "outputs": [
        {
          "output_type": "stream",
          "text": [
            "A,8\n",
            "B,7\n",
            "C,5\n",
            "D,6\n",
            "E,14\n"
          ],
          "name": "stdout"
        }
      ]
    },
    {
      "cell_type": "code",
      "metadata": {
        "id": "bjCMiPtyQyN1",
        "colab_type": "code",
        "colab": {
          "base_uri": "https://localhost:8080/",
          "height": 102
        },
        "outputId": "f0a68e90-788e-4cd1-d3ea-4c04e26d669b"
      },
      "source": [
        "#Imprima la suma de la columna 2 por cada letra de la primera columna, ordneados alfabeticamente.\n",
        "import pandas as pd\n",
        "file = pd.read_csv(\"data.csv\", sep=\"\\t\", names=list(range(1,6)))\n",
        "\n",
        "r = file.groupby(1).sum()\n",
        "r = r.reset_index()\n",
        "w= [print(r.iloc[i,0],r.iloc[i,1], sep=',') for i in r.index]\n"
      ],
      "execution_count": 77,
      "outputs": [
        {
          "output_type": "stream",
          "text": [
            "A,37\n",
            "B,36\n",
            "C,27\n",
            "D,23\n",
            "E,67\n"
          ],
          "name": "stdout"
        }
      ]
    },
    {
      "cell_type": "code",
      "metadata": {
        "id": "u4MCiYgSXHy7",
        "colab_type": "code",
        "colab": {
          "base_uri": "https://localhost:8080/",
          "height": 221
        },
        "outputId": "e36b7217-5927-44ac-ce65-0fba6c6b406e"
      },
      "source": [
        "#Imprima la cantidad de registros por cada mes.\n",
        "\n",
        "import pandas as pd\n",
        "import numpy as np\n",
        "f = pd.read_csv(\"data.csv\", sep=\"\\t\", names=list(range(1,6)))\n",
        "\n",
        "f['mes'] = [z.split('-')[1] for z in f.iloc[:,2]]\n",
        "r = f.groupby('mes').size()\n",
        "r = r.reset_index()\n",
        "w= [print(r.iloc[i,0],r.iloc[i,1], sep=',') for i in r.index]\n"
      ],
      "execution_count": 101,
      "outputs": [
        {
          "output_type": "stream",
          "text": [
            "01,3\n",
            "02,4\n",
            "03,2\n",
            "04,4\n",
            "05,3\n",
            "06,3\n",
            "07,5\n",
            "08,6\n",
            "09,3\n",
            "10,2\n",
            "11,2\n",
            "12,3\n"
          ],
          "name": "stdout"
        }
      ]
    },
    {
      "cell_type": "code",
      "metadata": {
        "id": "h3VLkw0LdgJs",
        "colab_type": "code",
        "colab": {
          "base_uri": "https://localhost:8080/",
          "height": 102
        },
        "outputId": "17b4606a-2e9d-4f0c-cbba-12a06dbe3d69"
      },
      "source": [
        "#Imprima el valor maximo y minimo por cada letra de la columa 1.\n",
        "\n",
        "import pandas as pd\n",
        "\n",
        "f = pd.read_csv(\"data.csv\", sep=\"\\t\", names=list(range(1,6)))\n",
        "r = f.groupby(1)[2].agg(['max','min'])\n",
        "print(r.to_csv(header=False),end='')\n"
      ],
      "execution_count": 110,
      "outputs": [
        {
          "output_type": "stream",
          "text": [
            "A,9,1\n",
            "B,9,1\n",
            "C,9,0\n",
            "D,7,1\n",
            "E,9,1\n"
          ],
          "name": "stdout"
        }
      ]
    },
    {
      "cell_type": "code",
      "metadata": {
        "id": "swrRUJQWgYV0",
        "colab_type": "code",
        "colab": {
          "base_uri": "https://localhost:8080/",
          "height": 187
        },
        "outputId": "d62a3edd-040c-4103-c4f5-fe5a885ca154"
      },
      "source": [
        "import pandas as pd\n",
        "\n",
        "f = pd.read_csv(\"data.csv\", sep=\"\\t\", names=list(range(1,6)))\n",
        "r = f[5].str.split(',').tolist()\n",
        "v = [i for j in r for i in j] \n",
        "w = pd.DataFrame(pd.Series(v).str.split(':').tolist())\n",
        "x = w.groupby(0)[1].agg(['min','max'])\n",
        "print(x.to_csv(header=False),end='')"
      ],
      "execution_count": 144,
      "outputs": [
        {
          "output_type": "stream",
          "text": [
            "aaa,0,9\n",
            "bbb,0,9\n",
            "ccc,0,9\n",
            "ddd,0,9\n",
            "eee,0,7\n",
            "fff,0,9\n",
            "ggg,0,9\n",
            "hhh,0,9\n",
            "iii,0,9\n",
            "jjj,0,9\n"
          ],
          "name": "stdout"
        }
      ]
    }
  ]
}