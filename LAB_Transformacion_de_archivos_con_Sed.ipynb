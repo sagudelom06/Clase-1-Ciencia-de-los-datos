{
  "nbformat": 4,
  "nbformat_minor": 0,
  "metadata": {
    "colab": {
      "name": "LAB: Transformacion de archivos con Sed.ipynb",
      "provenance": [],
      "collapsed_sections": [],
      "include_colab_link": true
    },
    "kernelspec": {
      "name": "python3",
      "display_name": "Python 3"
    }
  },
  "cells": [
    {
      "cell_type": "markdown",
      "metadata": {
        "id": "view-in-github",
        "colab_type": "text"
      },
      "source": [
        "<a href=\"https://colab.research.google.com/github/sagudelom06/Clase-1-Ciencia-de-los-datos/blob/master/LAB_Transformacion_de_archivos_con_Sed.ipynb\" target=\"_parent\"><img src=\"https://colab.research.google.com/assets/colab-badge.svg\" alt=\"Open In Colab\"/></a>"
      ]
    },
    {
      "cell_type": "code",
      "metadata": {
        "id": "nwcDDpZIl1F2",
        "colab_type": "code",
        "colab": {
          "base_uri": "https://localhost:8080/",
          "height": 34
        },
        "outputId": "9a91c955-dafc-4de0-80a7-57d179397a79"
      },
      "source": [
        "!ls\n"
      ],
      "execution_count": 3,
      "outputs": [
        {
          "output_type": "stream",
          "text": [
            "data.csv  sample_data\n"
          ],
          "name": "stdout"
        }
      ]
    },
    {
      "cell_type": "code",
      "metadata": {
        "id": "RXVaVqbRl6pT",
        "colab_type": "code",
        "colab": {
          "base_uri": "https://localhost:8080/",
          "height": 221
        },
        "outputId": "75491593-0352-4d9d-8846-6d88cf0d085f"
      },
      "source": [
        "!cat data.csv"
      ],
      "execution_count": 5,
      "outputs": [
        {
          "output_type": "stream",
          "text": [
            "12/03/13;A;1;100,0\r\n",
            "05/12/13;a;1;100,0\r\n",
            "25/02/13;B;2;200,0\r\n",
            "04/04/13;N;1;\\N\r\n",
            "21/06/13;\\N;;\r\n",
            "13/06/14;A;;n\r\n",
            "12/05/14;C;\\N;\r\n",
            "05/09/14;\\n;3;150,1\r\n",
            "12/05/14;a;2;\\N\r\n",
            "28/02/13;c;\\N;\\N\r\n",
            "02/08/14;A;2;100,0\r\n",
            "1/9/2014;A;3;100,4\r\n"
          ],
          "name": "stdout"
        }
      ]
    },
    {
      "cell_type": "code",
      "metadata": {
        "id": "N2plyi7XsmNd",
        "colab_type": "code",
        "colab": {
          "base_uri": "https://localhost:8080/",
          "height": 221
        },
        "outputId": "cab5f5c3-81ae-4eb9-fb63-9b6cdb5e77e6"
      },
      "source": [
        "# Convierta el formato de las fechas de DD/MM/YY a YYYY-MM-DD.\n",
        "%%bash\n",
        "sed 's/^\\([0-9]\\)\\/\\([0-9]\\)\\/20\\([0-9][0-9]\\)/0\\1\\/0\\2\\/\\3/' data.csv > data1.csv\n",
        "\n",
        "sed 's/^\\([0-9][0-9]\\)\\/\\([0-9][0-9]\\)\\/\\([0-9][0-9]\\);/20\\3-\\2-\\1;/' data1.csv > data2.csv\n",
        "cat data2.csv"
      ],
      "execution_count": 19,
      "outputs": [
        {
          "output_type": "stream",
          "text": [
            "2013-03-12;A;1;100,0\r\n",
            "2013-12-05;a;1;100,0\r\n",
            "2013-02-25;B;2;200,0\r\n",
            "2013-04-04;N;1;\\N\r\n",
            "2013-06-21;\\N;;\r\n",
            "2014-06-13;A;;n\r\n",
            "2014-05-12;C;\\N;\r\n",
            "2014-09-05;\\n;3;150,1\r\n",
            "2014-05-12;a;2;\\N\r\n",
            "2013-02-28;c;\\N;\\N\r\n",
            "2014-08-02;A;2;100,0\r\n",
            "2014-09-01;A;3;100,4\r\n"
          ],
          "name": "stdout"
        }
      ]
    },
    {
      "cell_type": "code",
      "metadata": {
        "id": "QyZBdzPmyNXx",
        "colab_type": "code",
        "colab": {
          "base_uri": "https://localhost:8080/",
          "height": 221
        },
        "outputId": "22926519-2a70-4be3-c7ae-880b19d99860"
      },
      "source": [
        "#Transforme el archivo para que todos los campos nulos aparezcan como \\N.\n",
        "\n",
        "\n",
        "!sed 's/;;/;\\\\N;/' data2.csv > data3.csv\n",
        "!sed 's/;.$/;\\\\N/' data3.csv> data4.csv\n",
        "!sed 's/;n/;\\\\N/' data4.csv> data5.csv\n",
        "!sed 's/;N;/;\\\\N/' data5.csv>data6.csv\n",
        "!sed 's/;\\\\n;/;\\\\N/' data6.csv>data7.csv\n",
        "!cat data7.csv | tr '[:lower:]' '[:upper:]' > data8.csv\n",
        "!cat data8.csv\n",
        "\n"
      ],
      "execution_count": 51,
      "outputs": [
        {
          "output_type": "stream",
          "text": [
            "2013-03-12;A;1;100,0\r\n",
            "2013-12-05;A;1;100,0\r\n",
            "2013-02-25;B;2;200,0\r\n",
            "2013-04-04;\\N1;\\N\r\n",
            "2013-06-21;\\N;\\N;\\N\n",
            "2014-06-13;A;\\N;\\N\r\n",
            "2014-05-12;C;\\N;\\N\n",
            "2014-09-05;\\N3;150,1\r\n",
            "2014-05-12;A;2;\\N\r\n",
            "2013-02-28;C;\\N;\\N\r\n",
            "2014-08-02;A;2;100,0\r\n",
            "2014-09-01;A;3;100,4\r\n"
          ],
          "name": "stdout"
        }
      ]
    },
    {
      "cell_type": "code",
      "metadata": {
        "id": "dzyENQh727OE",
        "colab_type": "code",
        "colab": {
          "base_uri": "https://localhost:8080/",
          "height": 221
        },
        "outputId": "a407f53e-c235-4cfd-ca2e-2ead92962ed3"
      },
      "source": [
        "!sed 's/;.$/;\\\\N/' data8.csv>data9.csv #cambia los ; del final por N\n",
        "!cat data9.csv"
      ],
      "execution_count": 52,
      "outputs": [
        {
          "output_type": "stream",
          "text": [
            "2013-03-12;A;1;100,0\r\n",
            "2013-12-05;A;1;100,0\r\n",
            "2013-02-25;B;2;200,0\r\n",
            "2013-04-04;\\N1;\\N\r\n",
            "2013-06-21;\\N;\\N;\\N\n",
            "2014-06-13;A;\\N;\\N\r\n",
            "2014-05-12;C;\\N;\\N\n",
            "2014-09-05;\\N3;150,1\r\n",
            "2014-05-12;A;2;\\N\r\n",
            "2013-02-28;C;\\N;\\N\r\n",
            "2014-08-02;A;2;100,0\r\n",
            "2014-09-01;A;3;100,4\r\n"
          ],
          "name": "stdout"
        }
      ]
    },
    {
      "cell_type": "code",
      "metadata": {
        "id": "MUIpyUA57rFK",
        "colab_type": "code",
        "colab": {}
      },
      "source": [
        ""
      ],
      "execution_count": 0,
      "outputs": []
    },
    {
      "cell_type": "code",
      "metadata": {
        "id": "L4G2adoC1ocG",
        "colab_type": "code",
        "colab": {
          "base_uri": "https://localhost:8080/",
          "height": 221
        },
        "outputId": "cd548eb3-cc87-4870-ee36-ff2c7a3d0132"
      },
      "source": [
        "#Use el . para indicar decimales.\n",
        "\n",
        "!sed 's/,/./g' data9.csv>data10.csv\n",
        "!cat data10.csv\n"
      ],
      "execution_count": 53,
      "outputs": [
        {
          "output_type": "stream",
          "text": [
            "2013-03-12;A;1;100.0\r\n",
            "2013-12-05;A;1;100.0\r\n",
            "2013-02-25;B;2;200.0\r\n",
            "2013-04-04;\\N1;\\N\r\n",
            "2013-06-21;\\N;\\N;\\N\n",
            "2014-06-13;A;\\N;\\N\r\n",
            "2014-05-12;C;\\N;\\N\n",
            "2014-09-05;\\N3;150.1\r\n",
            "2014-05-12;A;2;\\N\r\n",
            "2013-02-28;C;\\N;\\N\r\n",
            "2014-08-02;A;2;100.0\r\n",
            "2014-09-01;A;3;100.4\r\n"
          ],
          "name": "stdout"
        }
      ]
    },
    {
      "cell_type": "code",
      "metadata": {
        "id": "LLOZ-1Yr1e3D",
        "colab_type": "code",
        "colab": {
          "base_uri": "https://localhost:8080/",
          "height": 221
        },
        "outputId": "c3945135-3068-4439-f55d-c4d9e8453395"
      },
      "source": [
        "#Reemplace los ; por ,.\n",
        "\n",
        "!sed 's/;/,/g' data10.csv>data11.csv\n",
        "!cat data11.csv"
      ],
      "execution_count": 54,
      "outputs": [
        {
          "output_type": "stream",
          "text": [
            "2013-03-12,A,1,100.0\r\n",
            "2013-12-05,A,1,100.0\r\n",
            "2013-02-25,B,2,200.0\r\n",
            "2013-04-04,\\N1,\\N\r\n",
            "2013-06-21,\\N,\\N,\\N\n",
            "2014-06-13,A,\\N,\\N\r\n",
            "2014-05-12,C,\\N,\\N\n",
            "2014-09-05,\\N3,150.1\r\n",
            "2014-05-12,A,2,\\N\r\n",
            "2013-02-28,C,\\N,\\N\r\n",
            "2014-08-02,A,2,100.0\r\n",
            "2014-09-01,A,3,100.4\r\n"
          ],
          "name": "stdout"
        }
      ]
    }
  ]
}