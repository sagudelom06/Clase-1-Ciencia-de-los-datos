{
  "nbformat": 4,
  "nbformat_minor": 0,
  "metadata": {
    "colab": {
      "name": "Uso interactivo del terminal Bach.ipynb",
      "provenance": [],
      "include_colab_link": true
    },
    "kernelspec": {
      "name": "python3",
      "display_name": "Python 3"
    }
  },
  "cells": [
    {
      "cell_type": "markdown",
      "metadata": {
        "id": "view-in-github",
        "colab_type": "text"
      },
      "source": [
        "<a href=\"https://colab.research.google.com/github/sagudelom06/Clase-1-Ciencia-de-los-datos/blob/master/Uso_interactivo_del_terminal_Bach.ipynb\" target=\"_parent\"><img src=\"https://colab.research.google.com/assets/colab-badge.svg\" alt=\"Open In Colab\"/></a>"
      ]
    },
    {
      "cell_type": "code",
      "metadata": {
        "id": "4leRVePVw9NS",
        "colab_type": "code",
        "colab": {
          "base_uri": "https://localhost:8080/",
          "height": 34
        },
        "outputId": "6c4916b2-13d6-4104-a8fa-1043d1221a1e"
      },
      "source": [
        "##ECHO permite imprimir cadenas de texto sin delimitador o delimitadas por comillas simples o dobles. Note que las comillas obligan a que se respete el espacio entre palabras.\n",
        "\n",
        "!echo hola     mundo   cruel\n",
        "\n"
      ],
      "execution_count": 4,
      "outputs": [
        {
          "output_type": "stream",
          "text": [
            "hola mundo cruel\n"
          ],
          "name": "stdout"
        }
      ]
    },
    {
      "cell_type": "code",
      "metadata": {
        "id": "jZClyiNmxozI",
        "colab_type": "code",
        "colab": {
          "base_uri": "https://localhost:8080/",
          "height": 34
        },
        "outputId": "38842c76-9f55-4fcb-c700-3b38ed3a0e95"
      },
      "source": [
        "!echo 'hola    mundo  cruel'"
      ],
      "execution_count": 5,
      "outputs": [
        {
          "output_type": "stream",
          "text": [
            "hola    mundo  cruel\n"
          ],
          "name": "stdout"
        }
      ]
    },
    {
      "cell_type": "code",
      "metadata": {
        "id": "1mX9ZMgjxtqA",
        "colab_type": "code",
        "colab": {
          "base_uri": "https://localhost:8080/",
          "height": 68
        },
        "outputId": "297b5a2e-274d-4d0b-88ff-1d3de2138236"
      },
      "source": [
        "###Para imprimir varias líneas de texto se puede usar un echo por línea:\n",
        "\n",
        "\n",
        "!echo linea 1\n",
        "!echo linea 2\n",
        "!echo linea 3\n",
        "\n"
      ],
      "execution_count": 7,
      "outputs": [
        {
          "output_type": "stream",
          "text": [
            "linea 1\n",
            "linea 2\n",
            "linea 3\n"
          ],
          "name": "stdout"
        }
      ]
    },
    {
      "cell_type": "code",
      "metadata": {
        "id": "oXiRp3mEx7T9",
        "colab_type": "code",
        "colab": {
          "base_uri": "https://localhost:8080/",
          "height": 34
        },
        "outputId": "e4e5eccd-27c7-444c-9f61-2c12cf68ba65"
      },
      "source": [
        "!echo \"linea1 \\\n",
        "linea2 \\\n",
        "linea3\""
      ],
      "execution_count": 11,
      "outputs": [
        {
          "output_type": "stream",
          "text": [
            "linea1 linea2 linea3\n"
          ],
          "name": "stdout"
        }
      ]
    },
    {
      "cell_type": "code",
      "metadata": {
        "id": "9ni3fb4Eyzd6",
        "colab_type": "code",
        "colab": {
          "base_uri": "https://localhost:8080/",
          "height": 34
        },
        "outputId": "dc2b3808-b687-4973-9a2d-7decb31aed0f"
      },
      "source": [
        "## El operador \\ se usa para indicar que la línea lógica continua en el siguiente renglón físico; en el siguiente ejemplo todos los textos se imprimen en la misma línea.\n",
        "!echo linea 1 \\\n",
        "linea 2 \\\n",
        "linea 3"
      ],
      "execution_count": 12,
      "outputs": [
        {
          "output_type": "stream",
          "text": [
            "linea 1 linea 2 linea 3\n"
          ],
          "name": "stdout"
        }
      ]
    },
    {
      "cell_type": "code",
      "metadata": {
        "id": "7hyyTBf4zH47",
        "colab_type": "code",
        "colab": {
          "base_uri": "https://localhost:8080/",
          "height": 68
        },
        "outputId": "133c13c6-0704-4c8a-8942-87e0965c72f6"
      },
      "source": [
        "#Retorno de carro \\n - indicar el inicio de una nueva linea\n",
        "\n",
        "!echo -e \"linea 1\\nlinea 2\\nlinea 3 \""
      ],
      "execution_count": 13,
      "outputs": [
        {
          "output_type": "stream",
          "text": [
            "linea 1\n",
            "linea 2\n",
            "linea3 \n"
          ],
          "name": "stdout"
        }
      ]
    },
    {
      "cell_type": "code",
      "metadata": {
        "id": "jVFEbrEDzn63",
        "colab_type": "code",
        "colab": {
          "base_uri": "https://localhost:8080/",
          "height": 34
        },
        "outputId": "e1cba7c4-9772-4cae-90d1-219dc647bf27"
      },
      "source": [
        "!%%bigquery #consultas de b query\n",
        "!%%capture #\n",
        "!%%debug #\n",
        "!%%file #coje el contenido de la celda y muestra el contenido\n",
        "!%%HTML #coje el contenido de la celda y lo pasa a html\n",
        "!%%javascript #ejecutar una linea de javascrip\n",
        "!%%latex #para escribir ecuaciones con formato\n",
        "!%%perl #es un lenguaje especualizado en archivos de texto\n",
        "!%%prun #\n",
        "!%%python # puedo decirle que la celda esta escrita en python\n",
        "!%%svg #para imagenes\n",
        "!%%time #para medir el tiempo de ejecucion de la celda\n",
        "\n"
      ],
      "execution_count": 14,
      "outputs": [
        {
          "output_type": "stream",
          "text": [
            "/bin/bash: line 0: fg: no job control\n"
          ],
          "name": "stdout"
        }
      ]
    },
    {
      "cell_type": "code",
      "metadata": {
        "id": "4EcVvSoJ39-L",
        "colab_type": "code",
        "colab": {
          "base_uri": "https://localhost:8080/",
          "height": 119
        },
        "outputId": "e57cf3ba-1fc5-4d70-fc8a-2580fb742d15"
      },
      "source": [
        "!seq 6\n"
      ],
      "execution_count": 15,
      "outputs": [
        {
          "output_type": "stream",
          "text": [
            "1\n",
            "2\n",
            "3\n",
            "4\n",
            "5\n",
            "6\n"
          ],
          "name": "stdout"
        }
      ]
    },
    {
      "cell_type": "code",
      "metadata": {
        "id": "HyQrF9H64DkM",
        "colab_type": "code",
        "colab": {
          "base_uri": "https://localhost:8080/",
          "height": 102
        },
        "outputId": "85b1ec4b-d2a1-4519-9866-dc872c7f0da8"
      },
      "source": [
        "#La opción -f permite especificar formato para la secuencia, por ejemplo:\n",
        "!seq -f\"linea %g\" 5"
      ],
      "execution_count": 16,
      "outputs": [
        {
          "output_type": "stream",
          "text": [
            "linea1\n",
            "linea2\n",
            "linea3\n",
            "linea4\n",
            "linea5\n"
          ],
          "name": "stdout"
        }
      ]
    },
    {
      "cell_type": "code",
      "metadata": {
        "id": "LkC_LD8y4YDk",
        "colab_type": "code",
        "colab": {
          "base_uri": "https://localhost:8080/",
          "height": 34
        },
        "outputId": "8c46b722-c3bb-4af4-8be2-21d190e41a2f"
      },
      "source": [
        "##%s indica cadena de caracteres.\n",
        "\n",
        "##%f indica un número en punto flotante.\n",
        "\n",
        "##%g indica un número entero.\n",
        "\n",
        "!printf '%s ---- %f' 'hola mundo'  1.23456789 \n"
      ],
      "execution_count": 21,
      "outputs": [
        {
          "output_type": "stream",
          "text": [
            "hola mundo ---- 1.234568"
          ],
          "name": "stdout"
        }
      ]
    },
    {
      "cell_type": "code",
      "metadata": {
        "id": "Yth3vIKI4_UG",
        "colab_type": "code",
        "colab": {
          "base_uri": "https://localhost:8080/",
          "height": 34
        },
        "outputId": "ef4854e8-5a36-4201-f11d-7fb3429c93e6"
      },
      "source": [
        "!printf '%15s --- %8.2f'  hola   1.23456789 \n"
      ],
      "execution_count": 22,
      "outputs": [
        {
          "output_type": "stream",
          "text": [
            "           hola ---     1.23"
          ],
          "name": "stdout"
        }
      ]
    },
    {
      "cell_type": "code",
      "metadata": {
        "id": "evWIrRhh5Co0",
        "colab_type": "code",
        "colab": {
          "base_uri": "https://localhost:8080/",
          "height": 34
        },
        "outputId": "592bb477-1219-4081-ef8f-8b4b9f13bb35"
      },
      "source": [
        "!printf '%15s --- %8.2f'  'hola mundo'   123.456789"
      ],
      "execution_count": 23,
      "outputs": [
        {
          "output_type": "stream",
          "text": [
            "     hola mundo ---   123.46"
          ],
          "name": "stdout"
        }
      ]
    },
    {
      "cell_type": "code",
      "metadata": {
        "id": "kIeLNlH45Ozy",
        "colab_type": "code",
        "colab": {
          "base_uri": "https://localhost:8080/",
          "height": 34
        },
        "outputId": "5501bdeb-eaaa-49bb-f0f1-07bc839d83ea"
      },
      "source": [
        "#La opción -s permite indicar el separador. secuencia comenzando en 2, brincando de a 2 hasta 10\n",
        "\n",
        "!seq -s, 2 2 10"
      ],
      "execution_count": 24,
      "outputs": [
        {
          "output_type": "stream",
          "text": [
            "2,4,6,8,10\n"
          ],
          "name": "stdout"
        }
      ]
    },
    {
      "cell_type": "code",
      "metadata": {
        "id": "Ui07bh0m5pNb",
        "colab_type": "code",
        "colab": {}
      },
      "source": [
        "#Redireccionamiento de la entrada, la salida y pipes\n",
        "\n",
        "#El direccionamiento de la salida por pantalla a un archivo se realiza usando el operador >. Si el archivo al que se direcciona no existe, lo crea; y si existe, lo sobrescribe.\n",
        "\n",
        "!echo hola mundo cruel > clase.txt\n",
        "\n"
      ],
      "execution_count": 0,
      "outputs": []
    },
    {
      "cell_type": "code",
      "metadata": {
        "id": "LTqr894s6Loc",
        "colab_type": "code",
        "colab": {}
      },
      "source": [
        "## >> agrega la nueva impresión al final del archivo --- por ejemplo al final de clase.txt\n",
        "!echo esta es la segunda linea >> clase.txt\n"
      ],
      "execution_count": 0,
      "outputs": []
    },
    {
      "cell_type": "code",
      "metadata": {
        "id": "kKVXLJkd6W3U",
        "colab_type": "code",
        "colab": {
          "base_uri": "https://localhost:8080/",
          "height": 51
        },
        "outputId": "512182d3-6ce2-46cb-e411-93e70249da5c"
      },
      "source": [
        "#Visualización del contenido de un archivo con CAT\n",
        "\n",
        "!cat clase.txt"
      ],
      "execution_count": 29,
      "outputs": [
        {
          "output_type": "stream",
          "text": [
            "hola mundo cruel\n",
            "esta es la segunda linea\n"
          ],
          "name": "stdout"
        }
      ]
    },
    {
      "cell_type": "code",
      "metadata": {
        "id": "XruIgWXp7aui",
        "colab_type": "code",
        "colab": {}
      },
      "source": [
        "%%bash\n",
        "echo \"CustomerID, Customer\n",
        "   1, Customer A\n",
        "   2, Customer B\" > out.1\n",
        "   "
      ],
      "execution_count": 0,
      "outputs": []
    },
    {
      "cell_type": "code",
      "metadata": {
        "id": "X6tFOH1Q7-j6",
        "colab_type": "code",
        "colab": {
          "base_uri": "https://localhost:8080/",
          "height": 68
        },
        "outputId": "cf2f4fba-c352-458b-89fe-2d9b4fc5d2b6"
      },
      "source": [
        "!cat out.1"
      ],
      "execution_count": 36,
      "outputs": [
        {
          "output_type": "stream",
          "text": [
            "CustomerID, Customer\n",
            "   1, Customer A\n",
            "   2, Customer B\n"
          ],
          "name": "stdout"
        }
      ]
    },
    {
      "cell_type": "code",
      "metadata": {
        "id": "D4QIL1RE8eZw",
        "colab_type": "code",
        "colab": {
          "base_uri": "https://localhost:8080/",
          "height": 170
        },
        "outputId": "504b9b6c-ce83-4cb3-e1d0-87be43541b5e"
      },
      "source": [
        "##El principal uso de cat es la concatenación de archivos.\n",
        "!seq -f\"linea %g\" 1 1 3 > out.1\n",
        "!seq -f\"linea %g\" 4 1 6 > out.2\n",
        "!seq -f\"linea %g\" 7 1 9 > out.3\n",
        "!cat out.1 out.2 out.3"
      ],
      "execution_count": 37,
      "outputs": [
        {
          "output_type": "stream",
          "text": [
            "linea 1\n",
            "linea 2\n",
            "linea 3\n",
            "linea 4\n",
            "linea 5\n",
            "linea 6\n",
            "linea 7\n",
            "linea 8\n",
            "linea 9\n"
          ],
          "name": "stdout"
        }
      ]
    },
    {
      "cell_type": "code",
      "metadata": {
        "id": "JhWReGOQ9WuY",
        "colab_type": "code",
        "colab": {
          "base_uri": "https://localhost:8080/",
          "height": 187
        },
        "outputId": "a163fd1c-3765-4807-d126-91973dbfab30"
      },
      "source": [
        "#Visualización del inicio de un archivo con head\n",
        "#El comando head se usa para visualizar la porción inicial del contenido de un archivo. \n",
        "##head imprime por defecto las primeras 10 líneas.\n",
        "\n",
        "!seq -f\"linea %g\" 100 > out.1 # se generan 100 líneas\n",
        "!head -n 10 out.1"
      ],
      "execution_count": 40,
      "outputs": [
        {
          "output_type": "stream",
          "text": [
            "linea 1\n",
            "linea 2\n",
            "linea 3\n",
            "linea 4\n",
            "linea 5\n",
            "linea 6\n",
            "linea 7\n",
            "linea 8\n",
            "linea 9\n",
            "linea 10\n"
          ],
          "name": "stdout"
        }
      ]
    },
    {
      "cell_type": "code",
      "metadata": {
        "id": "pA0yo5hH96lp",
        "colab_type": "code",
        "colab": {
          "base_uri": "https://localhost:8080/",
          "height": 187
        },
        "outputId": "718c4be6-d097-4f05-fd49-5c2aa74ac76c"
      },
      "source": [
        "###Visualización del final de un archivo con tail\n",
        "##De forma similar al comando head, el comando tail permite visualizar las últimas líneas de un archivo.\n",
        "\n",
        "!tail -n 10 out.1"
      ],
      "execution_count": 41,
      "outputs": [
        {
          "output_type": "stream",
          "text": [
            "linea 91\n",
            "linea 92\n",
            "linea 93\n",
            "linea 94\n",
            "linea 95\n",
            "linea 96\n",
            "linea 97\n",
            "linea 98\n",
            "linea 99\n",
            "linea 100\n"
          ],
          "name": "stdout"
        }
      ]
    },
    {
      "cell_type": "code",
      "metadata": {
        "id": "2XOd9CYw-K7S",
        "colab_type": "code",
        "colab": {
          "base_uri": "https://localhost:8080/",
          "height": 51
        },
        "outputId": "6b8d5e4f-0bad-4ac9-aecc-d12dbed392fa"
      },
      "source": [
        "#En el siguiente ejemplo, el argumento +5 indica que se imprime desde la línea 5 hasta el final.\n",
        "!seq -f'linea %g' 6 > out.1\n",
        "!tail +5 out.1"
      ],
      "execution_count": 42,
      "outputs": [
        {
          "output_type": "stream",
          "text": [
            "linea 5\n",
            "linea 6\n"
          ],
          "name": "stdout"
        }
      ]
    },
    {
      "cell_type": "code",
      "metadata": {
        "id": "mL2F2WWW-Xw3",
        "colab_type": "code",
        "colab": {
          "base_uri": "https://localhost:8080/",
          "height": 34
        },
        "outputId": "4ea9c777-a09f-4720-a9b8-c040960a5731"
      },
      "source": [
        "!ls -1 *.txt"
      ],
      "execution_count": 43,
      "outputs": [
        {
          "output_type": "stream",
          "text": [
            "clase.txt\n"
          ],
          "name": "stdout"
        }
      ]
    },
    {
      "cell_type": "code",
      "metadata": {
        "id": "JFtsz8us_diB",
        "colab_type": "code",
        "colab": {
          "base_uri": "https://localhost:8080/",
          "height": 170
        },
        "outputId": "5d2bae8c-be36-4e91-9334-4d8f2dc0a0aa"
      },
      "source": [
        "##Ordenación de un archivo con sort\n",
        "#El comando sort permite ordenar el contenido de un archivo. El ordanamiento se realiza con base en el contenido total de cada línea.\n",
        "# la barra vertical (|) para que ordene \n",
        "!seq -f'linea %g' 3 > out.1\n",
        "!cat out.1 out.1 out.1 | sort"
      ],
      "execution_count": 44,
      "outputs": [
        {
          "output_type": "stream",
          "text": [
            "linea 1\n",
            "linea 1\n",
            "linea 1\n",
            "linea 2\n",
            "linea 2\n",
            "linea 2\n",
            "linea 3\n",
            "linea 3\n",
            "linea 3\n"
          ],
          "name": "stdout"
        }
      ]
    },
    {
      "cell_type": "code",
      "metadata": {
        "id": "HBlRqRBo_kbq",
        "colab_type": "code",
        "colab": {
          "base_uri": "https://localhost:8080/",
          "height": 68
        },
        "outputId": "384defec-fa0b-4ae0-e43e-2df636ec84e8"
      },
      "source": [
        "!cat out.1"
      ],
      "execution_count": 45,
      "outputs": [
        {
          "output_type": "stream",
          "text": [
            "linea 1\n",
            "linea 2\n",
            "linea 3\n"
          ],
          "name": "stdout"
        }
      ]
    },
    {
      "cell_type": "code",
      "metadata": {
        "id": "wYgB4MWN_xSc",
        "colab_type": "code",
        "colab": {
          "base_uri": "https://localhost:8080/",
          "height": 170
        },
        "outputId": "950cd9d1-ee6b-4424-c843-44e3bb1437c1"
      },
      "source": [
        "#lo mandamos a \"guardar\" en ordenado.txt\n",
        "\n",
        "!seq -f'linea %g' 3 > out.1\n",
        "!cat out.1 out.1 out.1 | sort > ordenado.txt && cat ordenado.txt"
      ],
      "execution_count": 46,
      "outputs": [
        {
          "output_type": "stream",
          "text": [
            "linea 1\n",
            "linea 1\n",
            "linea 1\n",
            "linea 2\n",
            "linea 2\n",
            "linea 2\n",
            "linea 3\n",
            "linea 3\n",
            "linea 3\n"
          ],
          "name": "stdout"
        }
      ]
    },
    {
      "cell_type": "code",
      "metadata": {
        "id": "nyccBGZhBIgo",
        "colab_type": "code",
        "colab": {
          "base_uri": "https://localhost:8080/",
          "height": 221
        },
        "outputId": "c4b89eeb-1987-4bec-bb23-68f0dad29d55"
      },
      "source": [
        "# lineas unicas con Uniq, lineas consecutivas identicas\n",
        "!cat out.1 out.2 out.1 out.2 |  uniq"
      ],
      "execution_count": 48,
      "outputs": [
        {
          "output_type": "stream",
          "text": [
            "linea 1\n",
            "linea 2\n",
            "linea 3\n",
            "linea 4\n",
            "linea 5\n",
            "linea 6\n",
            "linea 1\n",
            "linea 2\n",
            "linea 3\n",
            "linea 4\n",
            "linea 5\n",
            "linea 6\n"
          ],
          "name": "stdout"
        }
      ]
    },
    {
      "cell_type": "code",
      "metadata": {
        "id": "qyCUbp8vBW7b",
        "colab_type": "code",
        "colab": {
          "base_uri": "https://localhost:8080/",
          "height": 119
        },
        "outputId": "9d4831f2-3923-46a8-aae2-ab316a8d520a"
      },
      "source": [
        "# para solo lineas unicas debemos usar | sort | uniq\n",
        "\n",
        "!cat out.1 out.2 out.1 out.2 | sort | uniq"
      ],
      "execution_count": 49,
      "outputs": [
        {
          "output_type": "stream",
          "text": [
            "linea 1\n",
            "linea 2\n",
            "linea 3\n",
            "linea 4\n",
            "linea 5\n",
            "linea 6\n"
          ],
          "name": "stdout"
        }
      ]
    },
    {
      "cell_type": "code",
      "metadata": {
        "id": "ln6-27xkBggJ",
        "colab_type": "code",
        "colab": {
          "base_uri": "https://localhost:8080/",
          "height": 68
        },
        "outputId": "b43606f3-6561-4c15-ba6f-6917f5f7e85f"
      },
      "source": [
        "#Conteo de la cantidad de líneas, palabras y caracteres de archivo usando wc\n",
        "\n",
        "!wc -l out.1 out.2 "
      ],
      "execution_count": 50,
      "outputs": [
        {
          "output_type": "stream",
          "text": [
            " 3 out.1\n",
            " 3 out.2\n",
            " 6 total\n"
          ],
          "name": "stdout"
        }
      ]
    },
    {
      "cell_type": "code",
      "metadata": {
        "id": "_h9kqPQ_Bpo7",
        "colab_type": "code",
        "colab": {
          "base_uri": "https://localhost:8080/",
          "height": 204
        },
        "outputId": "0dc3bd80-40b1-4b36-a26c-5d8fe19cf277"
      },
      "source": [
        "#Búsqueda de patrones con grep\n",
        "\n",
        "#El comando grep permite imprime las líneas del archivo que contiene una cadena de texto especificada.\n",
        "#En los siguentes ejemplos se imprimen los números del 1 al 20 que contienen un '1'.\n",
        "\n",
        "!seq 20 | grep 1"
      ],
      "execution_count": 51,
      "outputs": [
        {
          "output_type": "stream",
          "text": [
            "1\n",
            "10\n",
            "11\n",
            "12\n",
            "13\n",
            "14\n",
            "15\n",
            "16\n",
            "17\n",
            "18\n",
            "19\n"
          ],
          "name": "stdout"
        }
      ]
    },
    {
      "cell_type": "code",
      "metadata": {
        "id": "wvJyslCSB4Zu",
        "colab_type": "code",
        "colab": {
          "base_uri": "https://localhost:8080/",
          "height": 204
        },
        "outputId": "460d0f64-2763-41da-cee9-7080644d6b62"
      },
      "source": [
        "\n",
        "!seq -f'linea %g' 20 > out.1\n",
        "!grep 1 out.1"
      ],
      "execution_count": 53,
      "outputs": [
        {
          "output_type": "stream",
          "text": [
            "linea 1\n",
            "linea 10\n",
            "linea 11\n",
            "linea 12\n",
            "linea 13\n",
            "linea 14\n",
            "linea 15\n",
            "linea 16\n",
            "linea 17\n",
            "linea 18\n",
            "linea 19\n"
          ],
          "name": "stdout"
        }
      ]
    },
    {
      "cell_type": "code",
      "metadata": {
        "id": "gzvaThXVCLVr",
        "colab_type": "code",
        "colab": {}
      },
      "source": [
        "###El símbolo $ indica que la cadena de texto debe aparecer al final de la línea. El símbolo ^ indica que la cadena de texto debe aparecer al principio de la línea."
      ],
      "execution_count": 0,
      "outputs": []
    }
  ]
}